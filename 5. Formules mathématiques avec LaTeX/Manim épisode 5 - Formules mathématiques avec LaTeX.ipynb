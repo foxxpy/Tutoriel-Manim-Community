{
 "cells": [
  {
   "cell_type": "code",
   "execution_count": null,
   "id": "assumed-acquisition",
   "metadata": {},
   "outputs": [],
   "source": [
    "import jupyter_manim"
   ]
  },
  {
   "cell_type": "markdown",
   "id": "collected-factory",
   "metadata": {},
   "source": [
    "# I. Quelques sites pour écrire des formules mathématiques en ligne\n",
    "\n",
    "- https://www.tutorialspoint.com/latex_equation_editor.htm\n",
    "    \n",
    "- https://latex.codecogs.com/eqneditor/editor.php\n",
    "    \n",
    "- https://www.latex4technics.com/"
   ]
  },
  {
   "cell_type": "markdown",
   "id": "forward-adams",
   "metadata": {},
   "source": [
    "<u><b>Lien de la documentation pour les objets Tex et MathText</b> </u> : https://docs.manim.community/en/stable/reference/manim.mobject.svg.tex_mobject.html#module-manim.mobject.svg.tex_mobject\n"
   ]
  },
  {
   "cell_type": "markdown",
   "id": "working-today",
   "metadata": {},
   "source": [
    "# II. Premières formules"
   ]
  },
  {
   "cell_type": "markdown",
   "id": "twenty-palestinian",
   "metadata": {},
   "source": [
    "Contraitement aux textes qui sont des objets Text, les formules vont être écrits dans des objets **Tex**."
   ]
  },
  {
   "cell_type": "markdown",
   "id": "genuine-topic",
   "metadata": {},
   "source": [
    "## <center><u>II.1. Moyenne arithmétique</u></center>"
   ]
  },
  {
   "cell_type": "code",
   "execution_count": null,
   "id": "undefined-venice",
   "metadata": {},
   "outputs": [],
   "source": [
    "%%manim MoyenneArithmetiqueAnimation\n",
    "\n",
    "from manim import *\n",
    "class MoyenneArithmetiqueAnimation(Scene):\n",
    "    def construct(self):\n",
    "        #On écrit le titre, on le paramètre et on le positionne\n",
    "        titre = Text(\"La moyenne arithmetique\")\n",
    "        titre.set_color(YELLOW)\n",
    "        titre.scale(0.75)\n",
    "        titre.to_edge(UP)\n",
    "        \n",
    "        #On écrit notre formule\n",
    "        moyenne = Tex(r'$\\bar{x} = \\frac{1}{N} \\displaystyle\\sum\\limits_{i=0}^N x_i$')\n",
    "        \n",
    "        #On affiche les textes\n",
    "        self.play(Create(titre))\n",
    "        self.wait(0.5)\n",
    "        self.play(Write(moyenne))\n",
    "        self.wait(1)\n",
    "        "
   ]
  },
  {
   "cell_type": "markdown",
   "id": "authentic-works",
   "metadata": {},
   "source": [
    "**<u>Attention!</u>\n",
    "\n",
    "- Pensez à mettre un **r** avant votre chaîne de caractères dans votre objet Text\n",
    "\n",
    "- Pensez à entourer votre formule des signes **$** pour passer en MathMode avec LaTeX."
   ]
  },
  {
   "cell_type": "raw",
   "id": "random-input",
   "metadata": {},
   "source": [
    "Exemple précédent : moyenne = Tex(r'$\\bar{x} = \\frac{1}{N} \\displaystyle\\sum\\limits_{i=0}^N x_i$')"
   ]
  },
  {
   "cell_type": "markdown",
   "id": "familiar-neighborhood",
   "metadata": {},
   "source": [
    "## <center><u>II.2. Deuxième exemple avec des matrices</u></center>"
   ]
  },
  {
   "cell_type": "code",
   "execution_count": null,
   "id": "hungry-graduate",
   "metadata": {},
   "outputs": [],
   "source": [
    "%%manim SommeMatriceAnimation\n",
    "\n",
    "from manim import *\n",
    "class SommeMatriceAnimation(Scene):\n",
    "    def construct(self):\n",
    "        #On créé notre titre\n",
    "        titre = Text(\"Somme de deux matrices\")\n",
    "        titre.set_color(RED)\n",
    "        titre.to_edge(UP)\n",
    "        titre.scale(0.8)\n",
    "        \n",
    "        #On créé notre formule\n",
    "        matrice1 = Tex(r\"$\\begin{bmatrix}a & b \\\\c & d \\end{bmatrix} + \\begin{bmatrix}e & f \\\\g & h \\end{bmatrix} =$\")\n",
    "        matrice1.scale(0.8)\n",
    "        matrice2 = Tex(r\"$\\begin{bmatrix}a+e & b+f \\\\c+g & d+h \\end{bmatrix}$\")\n",
    "        matrice2.set_color(YELLOW)\n",
    "        matrice2.scale(0.8)\n",
    "        matrice2.next_to(matrice1, direction=RIGHT, aligned_edge=UP)\n",
    "        \n",
    "        #On affiche notre titre et notre formule\n",
    "        self.play(Write(titre))\n",
    "        self.play(Write(matrice1))\n",
    "        self.play(Write(matrice2))\n",
    "        self.wait(1)"
   ]
  },
  {
   "cell_type": "markdown",
   "id": "miniature-asset",
   "metadata": {},
   "source": [
    "## <center><u>II.3. Aligner des égalités</u></center>"
   ]
  },
  {
   "cell_type": "code",
   "execution_count": null,
   "id": "verified-prime",
   "metadata": {},
   "outputs": [],
   "source": [
    "%%manim AlignerEgaliteAnimation\n",
    "\n",
    "from manim import *\n",
    "class AlignerEgaliteAnimation(Scene):\n",
    "    def construct(self):\n",
    "        egalite = MathTex(r'(1+x)(2+x) &= 1\\times2+1\\times x + x \\times 2 + x \\times x \\\\ &= 2 + x + 2x + x^{2} \\\\ &=x^{2} + 3\\times x + 1')\n",
    "        \n",
    "        #On anime notre équation\n",
    "        self.play(Write(egalite))\n",
    "        self.wait(1)"
   ]
  },
  {
   "cell_type": "markdown",
   "id": "matched-forge",
   "metadata": {},
   "source": [
    "Comme vous pouvez le constater, les signes = sont alignés.\n",
    "\n",
    "C'est grâce à **&** (éperluette) qui permet d'indiquer que l'on veut les mettre sur le même **alignement**.\n",
    "\n",
    "Quant au **retour à la ligne**, c'est les caractères **\\\\** présents dans l'équation qui le permettent."
   ]
  },
  {
   "cell_type": "markdown",
   "id": "demonstrated-november",
   "metadata": {},
   "source": [
    "## <center><u>II.4. Entourer des parties de votre équation</u></center>"
   ]
  },
  {
   "cell_type": "markdown",
   "id": "efficient-minute",
   "metadata": {},
   "source": [
    "Pour cette démonstration, nous allons reprendre le code et l'équation précédente.\n",
    "\n",
    "Cependant, nous allons séparer notre équation en plusieurs chaînes de caractères pour pouvoir associer des framebox (les rectangles qui vont encercler nos équations) à chaque partie de l'équation qui nous intéresse."
   ]
  },
  {
   "cell_type": "code",
   "execution_count": null,
   "id": "unavailable-italy",
   "metadata": {},
   "outputs": [],
   "source": [
    "%%manim EntourerEquationAnimation\n",
    "\n",
    "from manim import *\n",
    "class EntourerEquationAnimation(Scene):\n",
    "    def construct(self):\n",
    "        egalite = MathTex(r'(1+x)(2+x)', r' &= 1\\times2+1\\times x + x \\times 2 + x \\times x \\\\ ', r'&= 2 + x + 2x + x^{2} \\\\ ', r'&=x^{2} + 3\\times x + 1')\n",
    "        \n",
    "        #On anime notre équation\n",
    "        self.play(Write(egalite))\n",
    "        self.wait(0.5)\n",
    "        \n",
    "        #On créé le rectangle qui va entourer les éléments de notre équation au-fur-et-à-mesure\n",
    "        framebox = SurroundingRectangle(egalite[1], buff=0.1)\n",
    "        framebox2 = SurroundingRectangle(egalite[2], buff=0.1)\n",
    "        framebox3 = SurroundingRectangle(egalite[3], buff=0.1)\n",
    "        \n",
    "        #On anime les rectangles\n",
    "        self.play(Create(framebox))\n",
    "        self.wait(0.5)\n",
    "        \n",
    "        self.play(ReplacementTransform(framebox, framebox2))\n",
    "        self.wait(0.5)\n",
    "        \n",
    "        self.play(ReplacementTransform(framebox2, framebox3))\n",
    "        self.wait(0.5)\n",
    "        \n",
    "        self.play(FadeOut(framebox3))\n",
    "        self.wait(1)"
   ]
  }
 ],
 "metadata": {
  "kernelspec": {
   "display_name": "Python 3",
   "language": "python",
   "name": "python3"
  },
  "language_info": {
   "codemirror_mode": {
    "name": "ipython",
    "version": 3
   },
   "file_extension": ".py",
   "mimetype": "text/x-python",
   "name": "python",
   "nbconvert_exporter": "python",
   "pygments_lexer": "ipython3",
   "version": "3.9.2"
  }
 },
 "nbformat": 4,
 "nbformat_minor": 5
}
