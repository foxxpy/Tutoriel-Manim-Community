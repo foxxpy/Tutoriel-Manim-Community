{
 "cells": [
  {
   "cell_type": "code",
   "execution_count": null,
   "id": "intermediate-jewel",
   "metadata": {},
   "outputs": [],
   "source": [
    "import jupyter_manim"
   ]
  },
  {
   "cell_type": "markdown",
   "id": "raised-alliance",
   "metadata": {},
   "source": [
    "# I. afficher du texte"
   ]
  },
  {
   "cell_type": "markdown",
   "id": "affecting-subject",
   "metadata": {},
   "source": [
    "**Documentation** pour les MObject **Text** : https://docs.manim.community/en/v0.6.0/reference/manim.mobject.svg.text_mobject.Text.html"
   ]
  },
  {
   "cell_type": "markdown",
   "id": "falling-performer",
   "metadata": {},
   "source": [
    "### <center><u>I.1. Un premier texte</u></center>"
   ]
  },
  {
   "cell_type": "markdown",
   "id": "asian-payday",
   "metadata": {},
   "source": [
    "<u>Les textes qui ne contiennent pas de formules mathématiques</u> doivent être de la classe **Text**."
   ]
  },
  {
   "cell_type": "code",
   "execution_count": null,
   "id": "sought-compromise",
   "metadata": {},
   "outputs": [],
   "source": [
    "%%manim FirstText\n",
    "\n",
    "from manim import *\n",
    "class FirstText(Scene):\n",
    "    def construct(self):\n",
    "        monTexte = Text(\"Instancions notre premier texte\")\n",
    "        self.add(monTexte)\n",
    "        self.wait(1)"
   ]
  },
  {
   "cell_type": "markdown",
   "id": "invisible-nurse",
   "metadata": {},
   "source": [
    "<u>Récapitulatifs</u>\n",
    "\n",
    "<b>monTexte = Text(\"Instancions notre premier texte\")</b> : Instanciation de la chaîne de caractères \"Instancions notre premier texte\" dans un objet Text\n",
    "\n",
    "<b>self.add(monTexte)</b> : On ajoute le texte à la scène\n",
    "\n",
    "<b>self.wait(1)</b> : On attend une seconde après l'apparition du texte"
   ]
  },
  {
   "cell_type": "markdown",
   "id": "emotional-popularity",
   "metadata": {},
   "source": [
    "### <center> <u>I.2. Un exemple un petit peu plus élaboré</u></center>"
   ]
  },
  {
   "cell_type": "code",
   "execution_count": null,
   "id": "genetic-ethernet",
   "metadata": {},
   "outputs": [],
   "source": [
    "%%manim PositionText\n",
    "\n",
    "from manim import *\n",
    "\n",
    "class PositionText(Scene):\n",
    "    def construct(self):\n",
    "        \n",
    "        #On instancie nos objets Text\n",
    "        hautTexte = Text(\"Haut\")\n",
    "        droiteTexte = Text(\"Droite\")\n",
    "        basTexte = Text(\"Bas\")\n",
    "        gaucheTexte = Text(\"Gauche\")\n",
    "        \n",
    "        #On choisit la couleur des textes\n",
    "        hautTexte.set_color(WHITE)\n",
    "        droiteTexte.set_color(RED)\n",
    "        basTexte.set_color(YELLOW)\n",
    "        gaucheTexte.set_color(GREEN)\n",
    "        \n",
    "        #On positionne les textes\n",
    "        hautTexte.to_edge(UP)\n",
    "        droiteTexte.to_edge(RIGHT)\n",
    "        basTexte.to_edge(DOWN)\n",
    "        gaucheTexte.to_edge(LEFT)\n",
    "        \n",
    "        #On change la taille des texte avec scale\n",
    "        hautTexte.scale(0.5)\n",
    "        droiteTexte.scale(0.75)\n",
    "        basTexte.scale(1)\n",
    "        gaucheTexte.scale(1.25)\n",
    "        \n",
    "        listeTextes = [hautTexte, droiteTexte, basTexte, gaucheTexte]\n",
    "        \n",
    "        #On joue une animation de création pour chaque texte\n",
    "        for texte in listeTextes:\n",
    "            self.play(Create(texte))\n",
    "            self.wait(0.5)\n",
    "        "
   ]
  },
  {
   "cell_type": "markdown",
   "id": "neither-destiny",
   "metadata": {},
   "source": [
    "### <center> <u>I.3. Aligner des textes</u></center>"
   ]
  },
  {
   "cell_type": "code",
   "execution_count": null,
   "id": "undefined-consultation",
   "metadata": {},
   "outputs": [],
   "source": [
    "%%manim AlignerTexteAnimation\n",
    "\n",
    "from manim import *\n",
    "class AlignerTexteAnimation(Scene):\n",
    "    def construct(self):\n",
    "        scaleValue = 0.75\n",
    "        \n",
    "        #On créé nos textes\n",
    "        texte1 = Text(\"1. Introduction\").set_color(WHITE).scale(scaleValue)\n",
    "        texte1.to_corner(UL)\n",
    "        \n",
    "        texte2 = Text(\"2. La suite de Fibonacci\").set_color(WHITE).scale(scaleValue)\n",
    "        texte2.next_to(texte1, direction=DOWN, aligned_edge=LEFT)\n",
    "        \n",
    "        texte3 = Text(\"3. La memoïsation\").set_color(WHITE).scale(scaleValue)\n",
    "        texte3.next_to(texte2, direction=DOWN, aligned_edge=LEFT)\n",
    "        \n",
    "        texte4 = Text(\"4. La programmation dynamique\").set_color(WHITE).scale(scaleValue)\n",
    "        texte4.next_to(texte3, direction=DOWN, aligned_edge=LEFT)\n",
    "        \n",
    "        texte5 = Text(\"5. Conclusion\").set_color(WHITE).scale(scaleValue)\n",
    "        texte5.next_to(texte4, direction=DOWN, aligned_edge=LEFT)\n",
    "        \n",
    "        listeTextes = [texte1, texte2, texte3, texte4, texte5]\n",
    "        \n",
    "        #On anime nos textes\n",
    "        for texte in listeTextes:\n",
    "            self.play(Create(texte))\n",
    "            self.wait(0.5)\n",
    "            \n",
    "        #On supprime le texte\n",
    "        for texte in listeTextes[::-1]:\n",
    "            self.play(Uncreate(texte))\n",
    "            self.wait(0.5)\n",
    "            \n",
    "        self.wait(1)"
   ]
  },
  {
   "cell_type": "markdown",
   "id": "aware-emphasis",
   "metadata": {},
   "source": [
    "### <center> <u>I.4. Quelques paramètres des textes</u></center>"
   ]
  },
  {
   "cell_type": "code",
   "execution_count": null,
   "id": "precious-mobility",
   "metadata": {},
   "outputs": [],
   "source": [
    "%%manim TextesParametres\n",
    "\n",
    "from manim import *\n",
    "class TextesParametres(Scene):\n",
    "    def construct(self):\n",
    "        #On créé le texte\n",
    "        texteRouge = Text(\"Texte rouge de taille 0.6 avec la police Roboto et une opacité de 0.75\",\n",
    "                       size=0.6,\n",
    "                       color=\"red\",\n",
    "                       font=\"Roboto\",\n",
    "                       fill_opacity=0.75)\n",
    "        \n",
    "        texteVert = Text(\"Texte vert de taille 1.25 avec la police Sans et une opacité de 0.25\",\n",
    "                        size=1.25,\n",
    "                        color=\"yellow\",\n",
    "                        font=\"Sans\",\n",
    "                        fill_opacity=0.25)\n",
    "        \n",
    "        #On positionne le texte vert sous le texte rouge\n",
    "        texteVert.next_to(texteRouge, direction=DOWN, aligned_edge=LEFT)\n",
    "        \n",
    "        #On ajoute le texte à la scène\n",
    "        self.add(texteRouge)\n",
    "        self.add(texteVert)\n",
    "        self.wait(1)\n",
    "        "
   ]
  },
  {
   "cell_type": "markdown",
   "id": "small-leave",
   "metadata": {},
   "source": [
    "### <center> <u>I.5. Faire un gradient de couleur</u></center>"
   ]
  },
  {
   "cell_type": "code",
   "execution_count": null,
   "id": "loving-publisher",
   "metadata": {},
   "outputs": [],
   "source": [
    "%%manim GradientTexte\n",
    "\n",
    "from manim import *\n",
    "class GradientTexte(Scene):\n",
    "    def construct(self):\n",
    "        texte = Text(\"Du jaune au rouge\", gradient=(YELLOW, RED))\n",
    "        self.add(texte)"
   ]
  },
  {
   "cell_type": "markdown",
   "id": "czech-confidence",
   "metadata": {},
   "source": [
    "### <center><u>I.6. Gras, italique</u></center>"
   ]
  },
  {
   "cell_type": "code",
   "execution_count": null,
   "id": "perfect-possible",
   "metadata": {},
   "outputs": [],
   "source": [
    "%%manim GrasItaliqueSouligneTexte\n",
    "\n",
    "from manim import *\n",
    "class GrasItaliqueSouligneTexte(Scene):\n",
    "    def construct(self):\n",
    "        #On construit nos textes\n",
    "        texteGras = Text(\"Texte en gras\", weight=BOLD)\n",
    "        texteItalique = Text(\"Texte en italique\", slant=ITALIC)\n",
    "        motGras = Text(\"Le mot gras est en gras\", t2w={\"gras\" : BOLD})\n",
    "        motItalique = Text(\"Le mot italique est en italique\", t2s={\"italique\" : ITALIC})\n",
    "        motFont = Text(\"Le mot Font est écrit avec la police Roboto\", t2f={\"Font\" : \"Roboto\"}).scale(0.6)\n",
    "        \n",
    "        #Positionnement des textes\n",
    "        texteGras.to_edge(UP)\n",
    "        texteItalique.next_to(texteGras, direction=DOWN, aligned_edge=LEFT)\n",
    "        motGras.next_to(texteItalique, direction=DOWN, aligned_edge=LEFT)\n",
    "        motItalique.next_to(motGras, direction=DOWN, aligned_edge=LEFT)\n",
    "        motFont.next_to(motItalique, direction=DOWN, aligned_edge=LEFT)\n",
    "        \n",
    "        #Ajout des textes à la scène\n",
    "        self.add(texteGras)\n",
    "        self.add(texteItalique)\n",
    "        self.add(motGras)\n",
    "        self.add(motItalique)\n",
    "        self.add(motFont)"
   ]
  },
  {
   "cell_type": "markdown",
   "id": "lesbian-ticket",
   "metadata": {},
   "source": [
    "### <center><u>I.7. Le logo de Google</u></center>"
   ]
  },
  {
   "cell_type": "markdown",
   "id": "frozen-surface",
   "metadata": {},
   "source": [
    "Exemple récupéré sur la documentation de Manim : https://docs.manim.community/en/v0.6.0/reference/manim.mobject.svg.text_mobject.Text.html"
   ]
  },
  {
   "cell_type": "code",
   "execution_count": null,
   "id": "literary-honduras",
   "metadata": {},
   "outputs": [],
   "source": [
    "%%manim Google\n",
    "\n",
    "from manim import *\n",
    "\n",
    "class Google(Scene):\n",
    "    def construct(self):\n",
    "        text1 = Text(\n",
    "            'Google',\n",
    "            t2c={'[:1]': '#3174f0', '[1:2]': '#e53125',\n",
    "                 '[2:3]': '#fbb003', '[3:4]': '#3174f0',\n",
    "                 '[4:5]': '#269a43', '[5:]': '#e53125'}, size=1.2).scale(3)\n",
    "        self.add(text1)"
   ]
  },
  {
   "cell_type": "markdown",
   "id": "frequent-opinion",
   "metadata": {},
   "source": [
    "# II. Les animations spécifiques aux textes"
   ]
  },
  {
   "cell_type": "markdown",
   "id": "accepted-environment",
   "metadata": {},
   "source": [
    "### <center><u>II.1. Write et Unwrite</u></center>"
   ]
  },
  {
   "cell_type": "markdown",
   "id": "welsh-bunny",
   "metadata": {},
   "source": [
    "Permet de créer une animation d'écriture d'un texte."
   ]
  },
  {
   "cell_type": "code",
   "execution_count": null,
   "id": "catholic-plastic",
   "metadata": {},
   "outputs": [],
   "source": [
    "%%manim WriteAnimation\n",
    "\n",
    "from manim import *\n",
    "class WriteAnimation(Scene):\n",
    "    def construct(self):\n",
    "        #On créé et on paramètre notre objet Text\n",
    "        monTexte = Text(\"La suite de Fibonacci\")\n",
    "        monTexte.set_color(GREEN)\n",
    "        monTexte.to_edge(UP)\n",
    "        \n",
    "        #On anime notre texte\n",
    "        self.play(Write(monTexte))\n",
    "        self.wait(1.5)\n",
    "        self.play(Unwrite(monTexte))\n",
    "        self.wait(1)"
   ]
  },
  {
   "cell_type": "markdown",
   "id": "equivalent-mention",
   "metadata": {},
   "source": [
    "### <center><u>II.2. AddTextWordByWord</u></center>"
   ]
  },
  {
   "cell_type": "markdown",
   "id": "extended-weekly",
   "metadata": {},
   "source": [
    "Affiche la phrase à l'écran, mot par mot."
   ]
  },
  {
   "cell_type": "markdown",
   "id": "decimal-sociology",
   "metadata": {},
   "source": [
    "**02/05/2021** : Actuellement, **cette animation ne marche pas**, mais elle devrait refonctionner après des patchs futurs."
   ]
  },
  {
   "cell_type": "code",
   "execution_count": null,
   "id": "biological-midnight",
   "metadata": {},
   "outputs": [],
   "source": [
    "%%manim AddTextWordByWordAnimation\n",
    "\n",
    "from manim import *\n",
    "class AddTextWordByWordAnimation(Scene):\n",
    "    def construct(self):\n",
    "        #On créé et on paramètre notre objet Text\n",
    "        monTexte = Text(\"Les mots de ce texte vont apparaître les uns après les autres.\")\n",
    "        monTexte.scale(0.5)\n",
    "        monTexte.set_color(YELLOW)\n",
    "        \n",
    "        #On anime notre texte\n",
    "        self.play(AddTextWordByWord(monTexte))\n",
    "        self.wait(1)"
   ]
  },
  {
   "cell_type": "markdown",
   "id": "marine-stable",
   "metadata": {},
   "source": [
    "### <center><u>II.3. AddTextLetterByLetter</u></center>"
   ]
  },
  {
   "cell_type": "markdown",
   "id": "contained-syria",
   "metadata": {},
   "source": [
    "Affiche le texte à l'écran, lettre par lettre."
   ]
  },
  {
   "cell_type": "code",
   "execution_count": null,
   "id": "separate-subject",
   "metadata": {},
   "outputs": [],
   "source": [
    "%%manim AddTextLetterByLetterAnimation\n",
    "\n",
    "from manim import *\n",
    "class AddTextLetterByLetterAnimation(Scene):\n",
    "    def construct(self):\n",
    "        #On créé et on paramètre notre objet Text\n",
    "        monTexte = Text(\"Les lettres de ce texte vont apparaître les unes après les autres.\")\n",
    "        monTexte.scale(0.5)\n",
    "        monTexte.set_color(YELLOW)\n",
    "        \n",
    "        #On anime notre texte\n",
    "        self.play(AddTextLetterByLetter(monTexte))\n",
    "        self.wait(1)"
   ]
  },
  {
   "cell_type": "markdown",
   "id": "personal-realtor",
   "metadata": {},
   "source": [
    "# III. Mise en forme du texte : les shape matchers"
   ]
  },
  {
   "cell_type": "markdown",
   "id": "individual-vietnam",
   "metadata": {},
   "source": [
    "Les shape matchers sont des formes qui vont s'adapter à la taille et à la longueur de vos éléments (comme votre texte par exemple)"
   ]
  },
  {
   "cell_type": "markdown",
   "id": "strategic-somerset",
   "metadata": {},
   "source": [
    "### <center><u>III.1. Entourer un texte</u></center>"
   ]
  },
  {
   "cell_type": "code",
   "execution_count": null,
   "id": "specialized-cleanup",
   "metadata": {},
   "outputs": [],
   "source": [
    "%%manim EntourerTexteAnimation\n",
    "\n",
    "from manim import *\n",
    "class EntourerTexteAnimation(Scene):\n",
    "    def construct(self):\n",
    "        #On créé le texte\n",
    "        monTexte = Text(\"La conjecture de Syracuse\")\n",
    "        monTexte.to_edge(UP)\n",
    "        monTexte.set_color(YELLOW)\n",
    "\n",
    "        #On créé le rectangle qui va entourer le texte\n",
    "        rectangle = SurroundingRectangle(monTexte, color=RED, buff=0.1)\n",
    "\n",
    "        #On anime notre texte et notre rectangle\n",
    "        self.play(Write(monTexte))\n",
    "        self.play(Create(rectangle))\n",
    "        self.wait(1)\n",
    "        self.play(Uncreate(rectangle))\n",
    "        self.play(Unwrite(monTexte))\n",
    "        self.wait(1)"
   ]
  },
  {
   "cell_type": "markdown",
   "id": "occasional-equipment",
   "metadata": {},
   "source": [
    "### <center><u>III.2. Souligner un texte</u></center>"
   ]
  },
  {
   "cell_type": "markdown",
   "id": "quick-product",
   "metadata": {},
   "source": [
    "#### <center><u>III.2.1. Souligner tout le texte</u></center>"
   ]
  },
  {
   "cell_type": "code",
   "execution_count": null,
   "id": "reduced-estimate",
   "metadata": {},
   "outputs": [],
   "source": [
    "%%manim SoulignerTexteAnimation\n",
    "\n",
    "from manim import *\n",
    "class SoulignerTexteAnimation(Scene):\n",
    "    def construct(self):\n",
    "        #On créé notre texte\n",
    "        monTexte = Text(\"Tutoriel français sur Manim Community\")\n",
    "        monTexte.set_color(YELLOW)\n",
    "        \n",
    "        #On créé notre soulignage\n",
    "        underline = Underline(monTexte, color=RED, buff=0.1)\n",
    "        \n",
    "        #On créé nos animations\n",
    "        self.play(Create(monTexte), run_time=1.5)\n",
    "        self.play(GrowFromCenter(underline), run_time=1.5)\n",
    "        self.wait(1)"
   ]
  },
  {
   "cell_type": "markdown",
   "id": "dynamic-academy",
   "metadata": {},
   "source": [
    "#### <center><u>III.2.2. Souligner une partie du texte seulement</u></center>"
   ]
  },
  {
   "cell_type": "code",
   "execution_count": null,
   "id": "ignored-steering",
   "metadata": {},
   "outputs": [],
   "source": [
    "%%manim SoulignerUnePartieDuTexteAnimation\n",
    "\n",
    "from manim import *\n",
    "class SoulignerUnePartieDuTexteAnimation(Scene):\n",
    "    def construct(self):\n",
    "        #On créé notre texte\n",
    "        monTexte = Text(\"Tutoriel français sur Manim Community\")\n",
    "        monTexte.set_color(YELLOW)\n",
    "        \n",
    "        #On souligne seulement le mot \"français\"\n",
    "        underline = Underline(monTexte[8:16], buff=0.1)\n",
    "        underline.set_color(YELLOW)\n",
    "        \n",
    "        #On créé nos animations\n",
    "        self.play(Create(monTexte), run_time=1)\n",
    "        self.play(GrowFromCenter(underline), run_time=1)\n",
    "        self.wait(1)"
   ]
  },
  {
   "cell_type": "markdown",
   "id": "unusual-surge",
   "metadata": {},
   "source": [
    "### <center><u>III.3. Barrer un texte avec une croix</u></center>"
   ]
  },
  {
   "cell_type": "code",
   "execution_count": null,
   "id": "referenced-brooks",
   "metadata": {},
   "outputs": [],
   "source": [
    "%%manim BarrerUnTexte\n",
    "\n",
    "from manim import *\n",
    "class BarrerUnTexte(Scene):\n",
    "    def construct(self):\n",
    "        #On créé notre texte\n",
    "        monTexte = Text(\"Je suis un texte complètement barré!\")\n",
    "        \n",
    "        #On créé l'élément cross qui va barrer le texte\n",
    "        cross = Cross(monTexte)\n",
    "        \n",
    "        #On anime notre scène\n",
    "        self.play(Create(monTexte))\n",
    "        self.play(SpinInFromNothing(cross))\n",
    "        self.wait(1)"
   ]
  },
  {
   "cell_type": "markdown",
   "id": "consistent-chrome",
   "metadata": {},
   "source": [
    "### <center><u>III.4. Créer un rectangle de fond</u></center>"
   ]
  },
  {
   "cell_type": "code",
   "execution_count": null,
   "id": "atmospheric-sperm",
   "metadata": {},
   "outputs": [],
   "source": [
    "%%manim BackgroundRectangleAnimation\n",
    "\n",
    "from manim import *\n",
    "class BackgroundRectangleAnimation(Scene):\n",
    "    def construct(self):\n",
    "        #Le texte\n",
    "        monTexte = Text(\"Un texte qui a un bon fond!\")\n",
    "        \n",
    "        #Le rectangle de fond\n",
    "        rectangle = BackgroundRectangle(monTexte, color=RED, fill_opacity=0.8)\n",
    "        \n",
    "        #Animation de la scène\n",
    "        self.play(Create(monTexte))\n",
    "        self.play(Create(rectangle))\n",
    "        self.wait(1)"
   ]
  },
  {
   "cell_type": "markdown",
   "id": "serial-laugh",
   "metadata": {},
   "source": [
    "# IV. MarkupText"
   ]
  },
  {
   "cell_type": "markdown",
   "id": "attempted-firmware",
   "metadata": {},
   "source": [
    "Permet d'afficher du texte et de le mettre en forme avec des balises grâce à Pango.\n",
    "\n",
    "Documentation **MarkupText** : https://docs.manim.community/en/v0.6.0/reference/manim.mobject.svg.text_mobject.MarkupText.html\n",
    "\n",
    "Site de **Pango** : https://pango.gnome.org/"
   ]
  },
  {
   "cell_type": "markdown",
   "id": "professional-scope",
   "metadata": {},
   "source": [
    "### <center><u>IV.1. Gras, italique, souligné</u></center>"
   ]
  },
  {
   "cell_type": "code",
   "execution_count": null,
   "id": "polar-white",
   "metadata": {},
   "outputs": [],
   "source": [
    "%%manim GrasItaliqueSouligne\n",
    "\n",
    "from manim import *\n",
    "class GrasItaliqueSouligne(Scene):\n",
    "    def construct(self):\n",
    "        #Création du texte\n",
    "        monTexte = MarkupText(\"<b>Gras</b>, <i>Italique</i>, <u>souligné</u>\", color=RED)\n",
    "        \n",
    "        #Affichage du texte\n",
    "        self.play(Write(monTexte))\n",
    "        self.wait(1)"
   ]
  },
  {
   "cell_type": "markdown",
   "id": "efficient-fabric",
   "metadata": {},
   "source": [
    "**\\<b>\\</b>** : Permet de mettre le texte à l'intérieur des balises en **gras**\n",
    "\n",
    "**\\<i>\\</i>** : Permet de mettre le texte à l'intérieur des balises en **italique**\n",
    "\n",
    "**\\<u>\\</u>** : Permet de **souligner** le texte à l'intérieur des balises"
   ]
  },
  {
   "cell_type": "markdown",
   "id": "verbal-village",
   "metadata": {},
   "source": [
    "### <center><u>IV.2. Propriétés des polices</u></center>"
   ]
  },
  {
   "cell_type": "code",
   "execution_count": null,
   "id": "ultimate-buddy",
   "metadata": {},
   "outputs": [],
   "source": [
    "%%manim Police\n",
    "\n",
    "from manim import *\n",
    "class Police(Scene):\n",
    "    def construct(self):\n",
    "        #Les textes\n",
    "        typeWriterTexte = MarkupText(\"<tt>Typewriter font</tt>\")\n",
    "        bigTexte = MarkupText(\"<big>Big Text</big>\")\n",
    "        smallTexte = MarkupText(\"<small>Small Text</small>\")\n",
    "        superscriptTexte = MarkupText(\"<sup>Superscript text</sup>\")\n",
    "        subscriptTexte = MarkupText(\"<sub>Subscript text</sub>\")\n",
    "        \n",
    "        #Positionnement\n",
    "        typeWriterTexte.to_edge(UP)\n",
    "        bigTexte.next_to(typeWriterTexte, direction=DOWN, aligned_edge=LEFT)\n",
    "        smallTexte.next_to(bigTexte, direction=DOWN, aligned_edge=LEFT)\n",
    "        superscriptTexte.next_to(smallTexte, direction=DOWN, aligned_edge=LEFT)\n",
    "        subscriptTexte.next_to(superscriptTexte, direction=DOWN, aligned_edge=LEFT)\n",
    "        \n",
    "        #On anime nos textes\n",
    "        self.play(Write(typeWriterTexte))\n",
    "        self.play(Write(bigTexte))\n",
    "        self.play(Write(smallTexte))\n",
    "        self.play(Write(superscriptTexte))\n",
    "        self.play(Write(subscriptTexte))\n",
    "        self.wait(1)"
   ]
  },
  {
   "cell_type": "markdown",
   "id": "dried-check",
   "metadata": {},
   "source": [
    "### <center><u>IV.3. Span Markup</u></center>"
   ]
  },
  {
   "cell_type": "code",
   "execution_count": null,
   "id": "burning-courtesy",
   "metadata": {},
   "outputs": [],
   "source": [
    "%%manim SpanMarkUp\n",
    "\n",
    "from manim import *\n",
    "class SpanMarkUp(Scene):\n",
    "    def construct(self):\n",
    "        #Les textes\n",
    "        errorUnderline = MarkupText(\"<span underline=\\\"error\\\">Erreur soulignée</span>\")\n",
    "        doubleUnderline = MarkupText(\"<span underline=\\\"double\\\">Double soulignement</span>\")\n",
    "        overline = MarkupText('<span overline=\"single\">Overline single</span>')\n",
    "        strikethrough = MarkupText('<span strikethrough=\"true\" strikethrough_color=\"yellow\">Strike Through</span>')\n",
    "        fontfamily = MarkupText('<span font_family=\"Roboto\">Roboto font</span>')\n",
    "        foreground = MarkupText('<span foreground=\"blue\">Foreground color</span>')\n",
    "        \n",
    "        #Positionnement\n",
    "        errorUnderline.to_edge(UP)\n",
    "        doubleUnderline.next_to(errorUnderline, direction=DOWN, aligned_edge=LEFT)\n",
    "        overline.next_to(doubleUnderline, direction=DOWN, aligned_edge=LEFT)\n",
    "        strikethrough.next_to(overline, direction=DOWN, aligned_edge=LEFT)\n",
    "        fontfamily.next_to(strikethrough, direction=DOWN, aligned_edge=LEFT)\n",
    "        foreground.next_to(fontfamily, direction=DOWN, aligned_edge=LEFT)\n",
    "        \n",
    "        #Animation de la scène\n",
    "        self.play(Create(errorUnderline))\n",
    "        self.play(Create(doubleUnderline))\n",
    "        self.play(Create(overline))\n",
    "        self.play(Create(strikethrough))\n",
    "        self.play(Create(fontfamily))\n",
    "        self.play(Create(foreground))\n",
    "        self.wait(1)"
   ]
  },
  {
   "cell_type": "markdown",
   "id": "photographic-julian",
   "metadata": {},
   "source": [
    "### <center><u>IV.4. Créer un gradient de couleurs</u></center>"
   ]
  },
  {
   "cell_type": "code",
   "execution_count": null,
   "id": "compliant-thomas",
   "metadata": {},
   "outputs": [],
   "source": [
    "%%manim GradientAnimation\n",
    "\n",
    "from manim import *\n",
    "class GradientAnimation(Scene):\n",
    "    def construct(self):\n",
    "        #Le texte\n",
    "        gradientBleuRougeTexte = MarkupText(\"<gradient from=\\\"BLUE\\\" to=\\\"RED\\\">Du bleu au rouge</gradient>\")\n",
    "        gradientOrangeRoseTexte = MarkupText(\"<gradient from=\\\"ORANGE\\\" to=\\\"PINK\\\">De l'orange au rose</gradient>\")\n",
    "        \n",
    "        #Positionnement\n",
    "        gradientBleuRougeTexte.to_edge(UP)\n",
    "        gradientOrangeRoseTexte.to_edge(DOWN)\n",
    "        \n",
    "        #On anime le texte\n",
    "        self.play(Write(gradientBleuRougeTexte))\n",
    "        self.play(Write(gradientOrangeRoseTexte))\n",
    "        self.wait(1)"
   ]
  },
  {
   "cell_type": "markdown",
   "id": "fitted-liechtenstein",
   "metadata": {},
   "source": [
    "# V. La classe Paragraph"
   ]
  },
  {
   "cell_type": "markdown",
   "id": "altered-criterion",
   "metadata": {},
   "source": [
    "### <center><u>V.1. Un premier paragraphe</u></center>"
   ]
  },
  {
   "cell_type": "code",
   "execution_count": null,
   "id": "going-scope",
   "metadata": {},
   "outputs": [],
   "source": [
    "%%manim ParagraphAnimation\n",
    "\n",
    "from manim import *\n",
    "class ParagraphAnimation(Scene):\n",
    "    def construct(self):\n",
    "        paragraphe = Paragraph(\"Voici un paragraphe rédigé sur Jupyter Notebook.\",\n",
    "                              \"Celui-ci est composé de plusieurs lignes comme vous pouvez le constater.\",\n",
    "                              \"\\nVous pouvez faire un retour à la ligne avec \\\\n\\n\",\n",
    "                              \"\\tUne tabulation avec \\\\t\")\n",
    "        paragraphe.scale(0.6)\n",
    "        paragraphe.to_corner(UL)\n",
    "        \n",
    "        self.play(Write(paragraphe))\n",
    "        self.wait(1)"
   ]
  },
  {
   "cell_type": "markdown",
   "id": "fitting-column",
   "metadata": {},
   "source": [
    "### <center><u>V.2. Changer l'alignement d'une ligne</u></center>"
   ]
  },
  {
   "cell_type": "markdown",
   "id": "advisory-customer",
   "metadata": {},
   "source": [
    "Les alignements possibles sont **\"left\"**, **\"center\"**, **\"right\"**"
   ]
  },
  {
   "cell_type": "code",
   "execution_count": null,
   "id": "progressive-bradley",
   "metadata": {},
   "outputs": [],
   "source": [
    "%%manim Alignement\n",
    "\n",
    "from manim import *\n",
    "class Alignement(Scene):\n",
    "    def construct(self):\n",
    "        #Le paragraphe et ses différents alignements\n",
    "        paragraphe = Paragraph(\"Alignement à gauche\\n\", \"Alignement au centre\\n\", \"Alignement à droite\")\n",
    "        paragraphe.set_line_alignment(\"center\", 1)\n",
    "        paragraphe.set_line_alignment(\"right\", 2)\n",
    "        \n",
    "        #On ajoute le paragraphe à notre scène\n",
    "        self.add(paragraphe)\n",
    "        self.wait(1)"
   ]
  },
  {
   "cell_type": "markdown",
   "id": "electrical-partnership",
   "metadata": {},
   "source": [
    "Les méthodes d'alignements peuvent avoir des comportements étranges."
   ]
  }
 ],
 "metadata": {
  "kernelspec": {
   "display_name": "Python 3",
   "language": "python",
   "name": "python3"
  },
  "language_info": {
   "codemirror_mode": {
    "name": "ipython",
    "version": 3
   },
   "file_extension": ".py",
   "mimetype": "text/x-python",
   "name": "python",
   "nbconvert_exporter": "python",
   "pygments_lexer": "ipython3",
   "version": "3.9.2"
  }
 },
 "nbformat": 4,
 "nbformat_minor": 5
}
