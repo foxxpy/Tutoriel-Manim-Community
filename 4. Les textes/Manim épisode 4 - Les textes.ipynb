{
 "cells": [
  {
   "cell_type": "code",
   "execution_count": 2,
   "id": "intermediate-jewel",
   "metadata": {},
   "outputs": [],
   "source": [
    "import jupyter_manim"
   ]
  },
  {
   "cell_type": "markdown",
   "id": "raised-alliance",
   "metadata": {},
   "source": [
    "# I. afficher du texte"
   ]
  },
  {
   "cell_type": "markdown",
   "id": "falling-performer",
   "metadata": {},
   "source": [
    "### <center><u>I.1. Un premier texte</u></center>"
   ]
  },
  {
   "cell_type": "markdown",
   "id": "asian-payday",
   "metadata": {},
   "source": [
    "<u>Les textes qui ne contiennent pas de formules mathématiques</u> doivent être de la classe **Text**."
   ]
  },
  {
   "cell_type": "code",
   "execution_count": null,
   "id": "sought-compromise",
   "metadata": {},
   "outputs": [],
   "source": [
    "%%manim FirstText\n",
    "\n",
    "from manim import *\n",
    "class FirstText(Scene):\n",
    "    def construct(self):\n",
    "        monTexte = Text(\"Instancions notre premier texte\")\n",
    "        self.add(monTexte)\n",
    "        self.wait(1)"
   ]
  },
  {
   "cell_type": "markdown",
   "id": "invisible-nurse",
   "metadata": {},
   "source": [
    "<u>Récapitulatifs</u>\n",
    "\n",
    "<b>monTexte = Text(\"Instancions notre premier texte\")</b> : Instanciation de la chaîne de caractères \"Instancions notre premier texte\" dans un objet Text\n",
    "\n",
    "<b>self.add(monTexte)</b> : On ajoute le texte à la scène\n",
    "\n",
    "<b>self.wait(1)</b> : On attend une seconde après l'apparition du texte"
   ]
  },
  {
   "cell_type": "markdown",
   "id": "emotional-popularity",
   "metadata": {},
   "source": [
    "### <center> <u>I.2. Un exemple un petit peu plus élaboré</u></center>"
   ]
  },
  {
   "cell_type": "code",
   "execution_count": null,
   "id": "genetic-ethernet",
   "metadata": {},
   "outputs": [],
   "source": [
    "%%manim PositionText\n",
    "\n",
    "from manim import *\n",
    "\n",
    "class PositionText(Scene):\n",
    "    def construct(self):\n",
    "        \n",
    "        #On instancie nos objets Text\n",
    "        hautTexte = Text(\"Haut\")\n",
    "        droiteTexte = Text(\"Droite\")\n",
    "        basTexte = Text(\"Bas\")\n",
    "        gaucheTexte = Text(\"Gauche\")\n",
    "        \n",
    "        #On choisit la couleur des textes\n",
    "        hautTexte.set_color(WHITE)\n",
    "        droiteTexte.set_color(RED)\n",
    "        basTexte.set_color(YELLOW)\n",
    "        gaucheTexte.set_color(GREEN)\n",
    "        \n",
    "        #On positionne les textes\n",
    "        hautTexte.to_edge(UP)\n",
    "        droiteTexte.to_edge(RIGHT)\n",
    "        basTexte.to_edge(DOWN)\n",
    "        gaucheTexte.to_edge(LEFT)\n",
    "        \n",
    "        #On change la taille des texte avec scale\n",
    "        hautTexte.scale(0.5)\n",
    "        droiteTexte.scale(0.75)\n",
    "        basTexte.scale(1)\n",
    "        gaucheTexte.scale(1.25)\n",
    "        \n",
    "        listeTextes = [hautTexte, droiteTexte, basTexte, gaucheTexte]\n",
    "        \n",
    "        #On joue une animation de création pour chaque texte\n",
    "        for texte in listeTextes:\n",
    "            self.play(Create(texte))\n",
    "            self.wait(0.5)\n",
    "        "
   ]
  },
  {
   "cell_type": "markdown",
   "id": "neither-destiny",
   "metadata": {},
   "source": [
    "### <center> <u>I.3. Aligner des textes</u></center>"
   ]
  },
  {
   "cell_type": "code",
   "execution_count": null,
   "id": "undefined-consultation",
   "metadata": {},
   "outputs": [],
   "source": [
    "%%manim AlignerTexteAnimation\n",
    "\n",
    "from manim import *\n",
    "class AlignerTexteAnimation(Scene):\n",
    "    def construct(self):\n",
    "        scaleValue = 0.75\n",
    "        \n",
    "        #On créé nos textes\n",
    "        texte1 = Text(\"1. Introduction\").set_color(WHITE).scale(scaleValue)\n",
    "        texte1.to_corner(UL)\n",
    "        \n",
    "        texte2 = Text(\"2. La suite de Fibonacci\").set_color(WHITE).scale(scaleValue)\n",
    "        texte2.next_to(texte1, direction=DOWN, aligned_edge=LEFT)\n",
    "        \n",
    "        texte3 = Text(\"3. La memoïsation\").set_color(WHITE).scale(scaleValue)\n",
    "        texte3.next_to(texte2, direction=DOWN, aligned_edge=LEFT)\n",
    "        \n",
    "        texte4 = Text(\"4. La programmation dynamique\").set_color(WHITE).scale(scaleValue)\n",
    "        texte4.next_to(texte3, direction=DOWN, aligned_edge=LEFT)\n",
    "        \n",
    "        texte5 = Text(\"5. Conclusion\").set_color(WHITE).scale(scaleValue)\n",
    "        texte5.next_to(texte4, direction=DOWN, aligned_edge=LEFT)\n",
    "        \n",
    "        listeTextes = [texte1, texte2, texte3, texte4, texte5]\n",
    "        \n",
    "        #On anime nos textes\n",
    "        for texte in listeTextes:\n",
    "            self.play(Create(texte))\n",
    "            self.wait(0.5)\n",
    "            \n",
    "        #On supprime le texte\n",
    "        for texte in listeTextes[::-1]:\n",
    "            self.play(Uncreate(texte))\n",
    "            self.wait(0.5)\n",
    "            \n",
    "        self.wait(1)"
   ]
  },
  {
   "cell_type": "markdown",
   "id": "frequent-opinion",
   "metadata": {},
   "source": [
    "# II. Les animations spécifiques aux textes"
   ]
  },
  {
   "cell_type": "markdown",
   "id": "accepted-environment",
   "metadata": {},
   "source": [
    "### <center><u>II.1. Write et Unwrite</u></center>"
   ]
  },
  {
   "cell_type": "markdown",
   "id": "welsh-bunny",
   "metadata": {},
   "source": [
    "Permet de créer une animation d'écriture d'un texte."
   ]
  },
  {
   "cell_type": "code",
   "execution_count": null,
   "id": "catholic-plastic",
   "metadata": {},
   "outputs": [],
   "source": [
    "%%manim WriteAnimation\n",
    "\n",
    "from manim import *\n",
    "class WriteAnimation(Scene):\n",
    "    def construct(self):\n",
    "        #On créé et on paramètre notre objet Text\n",
    "        monTexte = Text(\"La suite de Fibonacci\")\n",
    "        monTexte.set_color(GREEN)\n",
    "        monTexte.to_edge(UP)\n",
    "        \n",
    "        #On anime notre texte\n",
    "        self.play(Write(monTexte))\n",
    "        self.wait(1.5)\n",
    "        self.play(Unwrite(monTexte))\n",
    "        self.wait(1)"
   ]
  },
  {
   "cell_type": "markdown",
   "id": "equivalent-mention",
   "metadata": {},
   "source": [
    "### <center><u>II.2. AddTextWordByWord</u></center>"
   ]
  },
  {
   "cell_type": "markdown",
   "id": "extended-weekly",
   "metadata": {},
   "source": [
    "Affiche la phrase à l'écran, mot par mot."
   ]
  },
  {
   "cell_type": "markdown",
   "id": "decimal-sociology",
   "metadata": {},
   "source": [
    "**02/05/2021** : Actuellement, **cette animation ne marche pas**, mais elle devrait refonctionner après des patchs futurs."
   ]
  },
  {
   "cell_type": "code",
   "execution_count": null,
   "id": "biological-midnight",
   "metadata": {},
   "outputs": [],
   "source": [
    "%%manim AddTextWordByWordAnimation\n",
    "\n",
    "from manim import *\n",
    "class AddTextWordByWordAnimation(Scene):\n",
    "    def construct(self):\n",
    "        #On créé et on paramètre notre objet Text\n",
    "        monTexte = Text(\"Les mots de ce texte vont apparaître les uns après les autres.\")\n",
    "        monTexte.scale(0.5)\n",
    "        monTexte.set_color(YELLOW)\n",
    "        \n",
    "        #On anime notre texte\n",
    "        self.play(AddTextWordByWord(monTexte))\n",
    "        self.wait(1)"
   ]
  },
  {
   "cell_type": "markdown",
   "id": "marine-stable",
   "metadata": {},
   "source": [
    "### <center><u>II.3. AddTextLetterByLetter</u></center>"
   ]
  },
  {
   "cell_type": "markdown",
   "id": "contained-syria",
   "metadata": {},
   "source": [
    "Affiche le texte à l'écran, lettre par lettre."
   ]
  },
  {
   "cell_type": "code",
   "execution_count": null,
   "id": "separate-subject",
   "metadata": {},
   "outputs": [],
   "source": [
    "%%manim AddTextLetterByLetterAnimation\n",
    "\n",
    "from manim import *\n",
    "class AddTextLetterByLetterAnimation(Scene):\n",
    "    def construct(self):\n",
    "        #On créé et on paramètre notre objet Text\n",
    "        monTexte = Text(\"Les lettres de ce texte vont apparaître les unes après les autres.\")\n",
    "        monTexte.scale(0.5)\n",
    "        monTexte.set_color(YELLOW)\n",
    "        \n",
    "        #On anime notre texte\n",
    "        self.play(AddTextLetterByLetter(monTexte))\n",
    "        self.wait(1)"
   ]
  },
  {
   "cell_type": "markdown",
   "id": "caroline-multimedia",
   "metadata": {},
   "source": [
    "# III. Mise en forme du texte : les shape matchers"
   ]
  },
  {
   "cell_type": "markdown",
   "id": "confirmed-night",
   "metadata": {},
   "source": [
    "Les shape matchers sont des formes qui vont s'adapter à la taille et à la longueur de vos éléments (comme votre texte par exemple)"
   ]
  },
  {
   "cell_type": "markdown",
   "id": "champion-nicaragua",
   "metadata": {},
   "source": [
    "### <center><u>III.1. Entourer un texte</u></center>"
   ]
  },
  {
   "cell_type": "code",
   "execution_count": null,
   "id": "interested-input",
   "metadata": {},
   "outputs": [],
   "source": [
    "%%manim EntourerTexteAnimation\n",
    "\n",
    "from manim import *\n",
    "class EntourerTexteAnimation(Scene):\n",
    "    def construct(self):\n",
    "        #On créé le texte\n",
    "        monTexte = Text(\"La conjecture de Syracuse\")\n",
    "        monTexte.to_edge(UP)\n",
    "        monTexte.set_color(YELLOW)\n",
    "\n",
    "        #On créé le rectangle qui va entourer le texte\n",
    "        rectangle = SurroundingRectangle(monTexte, color=RED, buff=0.1)\n",
    "\n",
    "        #On anime notre texte et notre rectangle\n",
    "        self.play(Write(monTexte))\n",
    "        self.play(Create(rectangle))\n",
    "        self.wait(1)\n",
    "        self.play(Uncreate(rectangle))\n",
    "        self.play(Unwrite(monTexte))\n",
    "        self.wait(1)"
   ]
  },
  {
   "cell_type": "markdown",
   "id": "external-spring",
   "metadata": {},
   "source": [
    "### <center><u>III.2. Souligner un texte</u></center>"
   ]
  },
  {
   "cell_type": "markdown",
   "id": "recognized-legend",
   "metadata": {},
   "source": [
    "#### <center><u>III.2.1. Souligner tout le texte</u></center>"
   ]
  },
  {
   "cell_type": "code",
   "execution_count": null,
   "id": "unlike-coast",
   "metadata": {},
   "outputs": [],
   "source": [
    "%%manim SoulignerTexteAnimation\n",
    "\n",
    "from manim import *\n",
    "class SoulignerTexteAnimation(Scene):\n",
    "    def construct(self):\n",
    "        #On créé notre texte\n",
    "        monTexte = Text(\"Tutoriel français sur Manim Community\")\n",
    "        monTexte.set_color(YELLOW)\n",
    "        \n",
    "        #On créé notre soulignage\n",
    "        underline = Underline(monTexte, buff=0.1)\n",
    "        \n",
    "        #On créé nos animations\n",
    "        self.play(Create(monTexte), run_time=1.5)\n",
    "        self.play(GrowFromCenter(underline), run_time=1.5)\n",
    "        self.wait(1)"
   ]
  },
  {
   "cell_type": "markdown",
   "id": "elder-russian",
   "metadata": {},
   "source": [
    "#### <center><u>III.2.2. Souligner une partie du texte seulement</u></center>"
   ]
  },
  {
   "cell_type": "code",
   "execution_count": null,
   "id": "obvious-permission",
   "metadata": {},
   "outputs": [],
   "source": [
    "%%manim SoulignerUnePartieDuTexteAnimation\n",
    "\n",
    "from manim import *\n",
    "class SoulignerUnePartieDuTexteAnimation(Scene):\n",
    "    def construct(self):\n",
    "        #On créé notre texte\n",
    "        monTexte = Text(\"Tutoriel français sur Manim Community\")\n",
    "        monTexte.set_color(YELLOW)\n",
    "        \n",
    "        #On souligne seulement le mot \"français\"\n",
    "        underline = Underline(monTexte[8:16], buff=0.1)\n",
    "        underline.set_color(YELLOW)\n",
    "        \n",
    "        #On créé nos animations\n",
    "        self.play(Create(monTexte), run_time=1)\n",
    "        self.play(GrowFromCenter(underline), run_time=1)\n",
    "        self.wait(1)"
   ]
  },
  {
   "cell_type": "markdown",
   "id": "anticipated-following",
   "metadata": {},
   "source": [
    "### <center><u>III.3. Barrer un texte avec une croix</u></center>"
   ]
  },
  {
   "cell_type": "code",
   "execution_count": null,
   "id": "sweet-morocco",
   "metadata": {},
   "outputs": [],
   "source": [
    "%%manim BarrerUnTexte\n",
    "\n",
    "from manim import *\n",
    "class BarrerUnTexte(Scene):\n",
    "    def construct(self):\n",
    "        #On créé notre texte\n",
    "        monTexte = Text(\"Je suis un texte complètement barré!\")\n",
    "        \n",
    "        #On créé l'élément cross qui va barrer le texte\n",
    "        cross = Cross(monTexte)\n",
    "        \n",
    "        #On anime notre scène\n",
    "        self.play(Create(monTexte))\n",
    "        self.play(SpinInFromNothing(cross))\n",
    "        self.wait(1)"
   ]
  },
  {
   "cell_type": "markdown",
   "id": "plain-arabic",
   "metadata": {},
   "source": [
    "### <center><u>III.4. Créer un rectangle de fond</u></center>"
   ]
  },
  {
   "cell_type": "code",
   "execution_count": null,
   "id": "chemical-joint",
   "metadata": {},
   "outputs": [],
   "source": [
    "%%manim BackgroundRectangleAnimation\n",
    "\n",
    "from manim import *\n",
    "class BackgroundRectangleAnimation(Scene):\n",
    "    def construct(self):\n",
    "        #Le texte\n",
    "        monTexte = Text(\"Un texte qui a un bon fond!\")\n",
    "        \n",
    "        #Le rectangle de fond\n",
    "        rectangle = BackgroundRectangle(monTexte, color=RED, fill_opacity=0.5)\n",
    "        \n",
    "        #Animation de la scène\n",
    "        self.play(Create(monTexte))\n",
    "        self.play(Create(rectangle))\n",
    "        self.wait(1)"
   ]
  },
  {
   "cell_type": "markdown",
   "id": "virtual-tactics",
   "metadata": {},
   "source": [
    "# IV. MarkupText"
   ]
  },
  {
   "cell_type": "markdown",
   "id": "floral-former",
   "metadata": {},
   "source": [
    "Permet d'afficher du texte et de le mettre en forme avec des balises grâce à Pango.\n",
    "\n",
    "Documentation **MarkupText** : https://docs.manim.community/en/v0.6.0/reference/manim.mobject.svg.text_mobject.MarkupText.html\n",
    "\n",
    "Site de **Pango** : https://pango.gnome.org/"
   ]
  },
  {
   "cell_type": "markdown",
   "id": "exclusive-rebate",
   "metadata": {},
   "source": [
    "### <center><u>IV.1. Gras, italique, souligné</u></center>"
   ]
  },
  {
   "cell_type": "code",
   "execution_count": 4,
   "id": "respiratory-emphasis",
   "metadata": {},
   "outputs": [
    {
     "name": "stderr",
     "output_type": "stream",
     "text": [
      "                                                                                                                       \r"
     ]
    },
    {
     "data": {
      "text/html": [
       "<pre style=\"white-space:pre;overflow-x:auto;line-height:normal;font-family:Menlo,'DejaVu Sans Mono',consolas,'Courier New',monospace\"><span style=\"color: #7fbfbf\">[05/05/21 17:13:52] </span><span style=\"color: #008000\">INFO</span>     Animation <span style=\"color: #008000\">0</span> : Partial movie file        <a href=\"file://c:\\python\\python39\\lib\\site-packages\\manim\\scene\\scene_file_writer.py\"><span style=\"color: #7f7f7f\">scene_file_writer.py</span></a><span style=\"color: #7f7f7f\">:401</span>\n",
       "                             written in <span style=\"font-weight: bold\">{</span><span style=\"color: #008000\">'C:\\\\Users\\\\foxxp\\\\media\\\\v</span>                         \n",
       "                             <span style=\"color: #008000\">ideos\\\\foxxp\\\\1080p60\\\\partial_movie_fi</span>                         \n",
       "                             <span style=\"color: #008000\">les\\\\GrasItaliqueSouligne\\\\450974505_17</span>                         \n",
       "                             <span style=\"color: #008000\">26438723_3681322402.mp4'</span><span style=\"font-weight: bold\">}</span>                                       \n",
       "</pre>\n"
      ],
      "text/plain": [
       "<rich.jupyter.JupyterRenderable at 0x25e0a5819d0>"
      ]
     },
     "metadata": {},
     "output_type": "display_data"
    },
    {
     "data": {
      "text/html": [
       "<pre style=\"white-space:pre;overflow-x:auto;line-height:normal;font-family:Menlo,'DejaVu Sans Mono',consolas,'Courier New',monospace\"><span style=\"color: #7fbfbf\">[05/05/21 17:13:53] </span><span style=\"color: #008000\">INFO</span>     Animation <span style=\"color: #008000\">1</span> : Partial movie file        <a href=\"file://c:\\python\\python39\\lib\\site-packages\\manim\\scene\\scene_file_writer.py\"><span style=\"color: #7f7f7f\">scene_file_writer.py</span></a><span style=\"color: #7f7f7f\">:401</span>\n",
       "                             written in <span style=\"font-weight: bold\">{</span><span style=\"color: #008000\">'C:\\\\Users\\\\foxxp\\\\media\\\\v</span>                         \n",
       "                             <span style=\"color: #008000\">ideos\\\\foxxp\\\\1080p60\\\\partial_movie_fi</span>                         \n",
       "                             <span style=\"color: #008000\">les\\\\GrasItaliqueSouligne\\\\2788726626_2</span>                         \n",
       "                             <span style=\"color: #008000\">432241074_2766294980.mp4'</span><span style=\"font-weight: bold\">}</span>                                      \n",
       "</pre>\n"
      ],
      "text/plain": [
       "<rich.jupyter.JupyterRenderable at 0x25e074f7be0>"
      ]
     },
     "metadata": {},
     "output_type": "display_data"
    },
    {
     "data": {
      "text/html": [
       "<pre style=\"white-space:pre;overflow-x:auto;line-height:normal;font-family:Menlo,'DejaVu Sans Mono',consolas,'Courier New',monospace\"><span style=\"color: #7fbfbf\">                    </span><span style=\"color: #008000\">INFO</span>                                             <a href=\"file://c:\\python\\python39\\lib\\site-packages\\manim\\scene\\scene_file_writer.py\"><span style=\"color: #7f7f7f\">scene_file_writer.py</span></a><span style=\"color: #7f7f7f\">:585</span>\n",
       "                             <span style=\"color: #808000; font-weight: bold\">File</span> ready at C:\\Users\\foxxp\\media\\vide                         \n",
       "                             os\\foxxp\\1080p60\\GrasItaliqueSouligne.m                         \n",
       "                             p4                                                              \n",
       "                                                                                             \n",
       "</pre>\n"
      ],
      "text/plain": [
       "<rich.jupyter.JupyterRenderable at 0x25e074f7820>"
      ]
     },
     "metadata": {},
     "output_type": "display_data"
    },
    {
     "data": {
      "text/html": [
       "<pre style=\"white-space:pre;overflow-x:auto;line-height:normal;font-family:Menlo,'DejaVu Sans Mono',consolas,'Courier New',monospace\"><span style=\"color: #7fbfbf\">                    </span><span style=\"color: #008000\">INFO</span>     <span style=\"color: #808000; font-weight: bold\">Rendered</span> GrasItaliqueSouligne                       <a href=\"file://c:\\python\\python39\\lib\\site-packages\\manim\\scene\\scene.py\"><span style=\"color: #7f7f7f\">scene.py</span></a><span style=\"color: #7f7f7f\">:217</span>\n",
       "                             <span style=\"color: #808000; font-weight: bold\">Played</span> <span style=\"color: #008000\">2</span> <span style=\"color: #808000; font-weight: bold\">animations</span>                                             \n",
       "</pre>\n"
      ],
      "text/plain": [
       "<rich.jupyter.JupyterRenderable at 0x25e074f7820>"
      ]
     },
     "metadata": {},
     "output_type": "display_data"
    },
    {
     "data": {
      "text/html": [
       "<video src=\"media\\jupyter\\b97d89072d6812deb9a81831ad6eabc99a6f495f.mp4\" controls autoplay loop style=\"max-width: 25vw;\"  >\n",
       "      Your browser does not support the <code>video</code> element.\n",
       "    </video>"
      ],
      "text/plain": [
       "<IPython.core.display.Video object>"
      ]
     },
     "metadata": {},
     "output_type": "display_data"
    }
   ],
   "source": [
    "%%manim GrasItaliqueSouligne\n",
    "\n",
    "from manim import *\n",
    "class GrasItaliqueSouligne(Scene):\n",
    "    def construct(self):\n",
    "        #Création du texte\n",
    "        monTexte = MarkupText(\"<b>Gras</b>, <i>Italique</i>, <u>souligné</u>\", color=RED)\n",
    "        \n",
    "        #Affichage du texte\n",
    "        self.play(Write(monTexte))\n",
    "        self.wait(1)"
   ]
  },
  {
   "cell_type": "markdown",
   "id": "congressional-realtor",
   "metadata": {},
   "source": [
    "**\\<b>\\</b>** : Permet de mettre le texte à l'intérieur des balises en **gras**\n",
    "\n",
    "**\\<i>\\</i>** : Permet de mettre le texte à l'intérieur des balises en **italique**\n",
    "\n",
    "**\\<u>\\</u>** : Permet de **souligner** le texte à l'intérieur des balises"
   ]
  },
  {
   "cell_type": "markdown",
   "id": "unnecessary-adoption",
   "metadata": {},
   "source": [
    "### <center><u>IV.2. Propriétés des polices</u></center>"
   ]
  },
  {
   "cell_type": "code",
   "execution_count": 8,
   "id": "broken-project",
   "metadata": {},
   "outputs": [
    {
     "name": "stderr",
     "output_type": "stream",
     "text": [
      "                                                                                                                       \r"
     ]
    },
    {
     "data": {
      "text/html": [
       "<pre style=\"white-space:pre;overflow-x:auto;line-height:normal;font-family:Menlo,'DejaVu Sans Mono',consolas,'Courier New',monospace\"><span style=\"color: #7fbfbf\">[05/05/21 17:23:28] </span><span style=\"color: #008000\">INFO</span>     Animation <span style=\"color: #008000\">0</span> : Partial movie file        <a href=\"file://c:\\python\\python39\\lib\\site-packages\\manim\\scene\\scene_file_writer.py\"><span style=\"color: #7f7f7f\">scene_file_writer.py</span></a><span style=\"color: #7f7f7f\">:401</span>\n",
       "                             written in <span style=\"font-weight: bold\">{</span><span style=\"color: #008000\">'C:\\\\Users\\\\foxxp\\\\media\\\\v</span>                         \n",
       "                             <span style=\"color: #008000\">ideos\\\\foxxp\\\\1080p60\\\\partial_movie_fi</span>                         \n",
       "                             <span style=\"color: #008000\">les\\\\Police\\\\450974505_2001015912_19594</span>                         \n",
       "                             <span style=\"color: #008000\">11995.mp4'</span><span style=\"font-weight: bold\">}</span>                                                     \n",
       "</pre>\n"
      ],
      "text/plain": [
       "<rich.jupyter.JupyterRenderable at 0x25e06d4b8b0>"
      ]
     },
     "metadata": {},
     "output_type": "display_data"
    },
    {
     "name": "stderr",
     "output_type": "stream",
     "text": [
      "                                                                                                                       \r"
     ]
    },
    {
     "data": {
      "text/html": [
       "<pre style=\"white-space:pre;overflow-x:auto;line-height:normal;font-family:Menlo,'DejaVu Sans Mono',consolas,'Courier New',monospace\"><span style=\"color: #7fbfbf\">[05/05/21 17:23:30] </span><span style=\"color: #008000\">INFO</span>     Animation <span style=\"color: #008000\">1</span> : Partial movie file        <a href=\"file://c:\\python\\python39\\lib\\site-packages\\manim\\scene\\scene_file_writer.py\"><span style=\"color: #7f7f7f\">scene_file_writer.py</span></a><span style=\"color: #7f7f7f\">:401</span>\n",
       "                             written in <span style=\"font-weight: bold\">{</span><span style=\"color: #008000\">'C:\\\\Users\\\\foxxp\\\\media\\\\v</span>                         \n",
       "                             <span style=\"color: #008000\">ideos\\\\foxxp\\\\1080p60\\\\partial_movie_fi</span>                         \n",
       "                             <span style=\"color: #008000\">les\\\\Police\\\\2788726626_3257116507_2048</span>                         \n",
       "                             <span style=\"color: #008000\">387577.mp4'</span><span style=\"font-weight: bold\">}</span>                                                    \n",
       "</pre>\n"
      ],
      "text/plain": [
       "<rich.jupyter.JupyterRenderable at 0x25e06d7e370>"
      ]
     },
     "metadata": {},
     "output_type": "display_data"
    },
    {
     "name": "stderr",
     "output_type": "stream",
     "text": [
      "                                                                                                                       \r"
     ]
    },
    {
     "data": {
      "text/html": [
       "<pre style=\"white-space:pre;overflow-x:auto;line-height:normal;font-family:Menlo,'DejaVu Sans Mono',consolas,'Courier New',monospace\"><span style=\"color: #7fbfbf\">[05/05/21 17:23:32] </span><span style=\"color: #008000\">INFO</span>     Animation <span style=\"color: #008000\">2</span> : Partial movie file        <a href=\"file://c:\\python\\python39\\lib\\site-packages\\manim\\scene\\scene_file_writer.py\"><span style=\"color: #7f7f7f\">scene_file_writer.py</span></a><span style=\"color: #7f7f7f\">:401</span>\n",
       "                             written in <span style=\"font-weight: bold\">{</span><span style=\"color: #008000\">'C:\\\\Users\\\\foxxp\\\\media\\\\v</span>                         \n",
       "                             <span style=\"color: #008000\">ideos\\\\foxxp\\\\1080p60\\\\partial_movie_fi</span>                         \n",
       "                             <span style=\"color: #008000\">les\\\\Police\\\\2788726626_3412246141_1857</span>                         \n",
       "                             <span style=\"color: #008000\">625660.mp4'</span><span style=\"font-weight: bold\">}</span>                                                    \n",
       "</pre>\n"
      ],
      "text/plain": [
       "<rich.jupyter.JupyterRenderable at 0x25e06d662e0>"
      ]
     },
     "metadata": {},
     "output_type": "display_data"
    },
    {
     "name": "stderr",
     "output_type": "stream",
     "text": [
      "                                                                                                                       \r"
     ]
    },
    {
     "data": {
      "text/html": [
       "<pre style=\"white-space:pre;overflow-x:auto;line-height:normal;font-family:Menlo,'DejaVu Sans Mono',consolas,'Courier New',monospace\"><span style=\"color: #7fbfbf\">[05/05/21 17:23:37] </span><span style=\"color: #008000\">INFO</span>     Animation <span style=\"color: #008000\">3</span> : Partial movie file        <a href=\"file://c:\\python\\python39\\lib\\site-packages\\manim\\scene\\scene_file_writer.py\"><span style=\"color: #7f7f7f\">scene_file_writer.py</span></a><span style=\"color: #7f7f7f\">:401</span>\n",
       "                             written in <span style=\"font-weight: bold\">{</span><span style=\"color: #008000\">'C:\\\\Users\\\\foxxp\\\\media\\\\v</span>                         \n",
       "                             <span style=\"color: #008000\">ideos\\\\foxxp\\\\1080p60\\\\partial_movie_fi</span>                         \n",
       "                             <span style=\"color: #008000\">les\\\\Police\\\\2788726626_1750232904_3889</span>                         \n",
       "                             <span style=\"color: #008000\">093186.mp4'</span><span style=\"font-weight: bold\">}</span>                                                    \n",
       "</pre>\n"
      ],
      "text/plain": [
       "<rich.jupyter.JupyterRenderable at 0x25e06d9d970>"
      ]
     },
     "metadata": {},
     "output_type": "display_data"
    },
    {
     "name": "stderr",
     "output_type": "stream",
     "text": [
      "                                                                                                                       \r"
     ]
    },
    {
     "data": {
      "text/html": [
       "<pre style=\"white-space:pre;overflow-x:auto;line-height:normal;font-family:Menlo,'DejaVu Sans Mono',consolas,'Courier New',monospace\"><span style=\"color: #7fbfbf\">[05/05/21 17:23:39] </span><span style=\"color: #008000\">INFO</span>     Animation <span style=\"color: #008000\">4</span> : Partial movie file        <a href=\"file://c:\\python\\python39\\lib\\site-packages\\manim\\scene\\scene_file_writer.py\"><span style=\"color: #7f7f7f\">scene_file_writer.py</span></a><span style=\"color: #7f7f7f\">:401</span>\n",
       "                             written in <span style=\"font-weight: bold\">{</span><span style=\"color: #008000\">'C:\\\\Users\\\\foxxp\\\\media\\\\v</span>                         \n",
       "                             <span style=\"color: #008000\">ideos\\\\foxxp\\\\1080p60\\\\partial_movie_fi</span>                         \n",
       "                             <span style=\"color: #008000\">les\\\\Police\\\\2788726626_1369085756_3345</span>                         \n",
       "                             <span style=\"color: #008000\">975446.mp4'</span><span style=\"font-weight: bold\">}</span>                                                    \n",
       "</pre>\n"
      ],
      "text/plain": [
       "<rich.jupyter.JupyterRenderable at 0x25e06d60d90>"
      ]
     },
     "metadata": {},
     "output_type": "display_data"
    },
    {
     "data": {
      "text/html": [
       "<pre style=\"white-space:pre;overflow-x:auto;line-height:normal;font-family:Menlo,'DejaVu Sans Mono',consolas,'Courier New',monospace\"><span style=\"color: #7fbfbf\">[05/05/21 17:23:41] </span><span style=\"color: #008000\">INFO</span>     Animation <span style=\"color: #008000\">5</span> : Partial movie file        <a href=\"file://c:\\python\\python39\\lib\\site-packages\\manim\\scene\\scene_file_writer.py\"><span style=\"color: #7f7f7f\">scene_file_writer.py</span></a><span style=\"color: #7f7f7f\">:401</span>\n",
       "                             written in <span style=\"font-weight: bold\">{</span><span style=\"color: #008000\">'C:\\\\Users\\\\foxxp\\\\media\\\\v</span>                         \n",
       "                             <span style=\"color: #008000\">ideos\\\\foxxp\\\\1080p60\\\\partial_movie_fi</span>                         \n",
       "                             <span style=\"color: #008000\">les\\\\Police\\\\2788726626_2432241074_3587</span>                         \n",
       "                             <span style=\"color: #008000\">024389.mp4'</span><span style=\"font-weight: bold\">}</span>                                                    \n",
       "</pre>\n"
      ],
      "text/plain": [
       "<rich.jupyter.JupyterRenderable at 0x25e06db8790>"
      ]
     },
     "metadata": {},
     "output_type": "display_data"
    },
    {
     "data": {
      "text/html": [
       "<pre style=\"white-space:pre;overflow-x:auto;line-height:normal;font-family:Menlo,'DejaVu Sans Mono',consolas,'Courier New',monospace\"><span style=\"color: #7fbfbf\">                    </span><span style=\"color: #008000\">INFO</span>                                             <a href=\"file://c:\\python\\python39\\lib\\site-packages\\manim\\scene\\scene_file_writer.py\"><span style=\"color: #7f7f7f\">scene_file_writer.py</span></a><span style=\"color: #7f7f7f\">:585</span>\n",
       "                             <span style=\"color: #808000; font-weight: bold\">File</span> ready at C:\\Users\\foxxp\\media\\vide                         \n",
       "                             os\\foxxp\\1080p60\\Police.mp4                                     \n",
       "                                                                                             \n",
       "</pre>\n"
      ],
      "text/plain": [
       "<rich.jupyter.JupyterRenderable at 0x25e06db85b0>"
      ]
     },
     "metadata": {},
     "output_type": "display_data"
    },
    {
     "data": {
      "text/html": [
       "<pre style=\"white-space:pre;overflow-x:auto;line-height:normal;font-family:Menlo,'DejaVu Sans Mono',consolas,'Courier New',monospace\"><span style=\"color: #7fbfbf\">                    </span><span style=\"color: #008000\">INFO</span>     <span style=\"color: #808000; font-weight: bold\">Rendered</span> Police                                     <a href=\"file://c:\\python\\python39\\lib\\site-packages\\manim\\scene\\scene.py\"><span style=\"color: #7f7f7f\">scene.py</span></a><span style=\"color: #7f7f7f\">:217</span>\n",
       "                             <span style=\"color: #808000; font-weight: bold\">Played</span> <span style=\"color: #008000\">6</span> <span style=\"color: #808000; font-weight: bold\">animations</span>                                             \n",
       "</pre>\n"
      ],
      "text/plain": [
       "<rich.jupyter.JupyterRenderable at 0x25e06db8220>"
      ]
     },
     "metadata": {},
     "output_type": "display_data"
    },
    {
     "data": {
      "text/html": [
       "<video src=\"media\\jupyter\\2afdc49d05ef3e0d1afe472cbdb958527ca103ec.mp4\" controls autoplay loop style=\"max-width: 25vw;\"  >\n",
       "      Your browser does not support the <code>video</code> element.\n",
       "    </video>"
      ],
      "text/plain": [
       "<IPython.core.display.Video object>"
      ]
     },
     "metadata": {},
     "output_type": "display_data"
    }
   ],
   "source": [
    "%%manim Police\n",
    "\n",
    "from manim import *\n",
    "class Police(Scene):\n",
    "    def construct(self):\n",
    "        #Les textes\n",
    "        typeWriterTexte = MarkupText(\"<tt>Typewriter font</tt>\")\n",
    "        bigTexte = MarkupText(\"<big>Big Text</big>\")\n",
    "        smallTexte = MarkupText(\"<small>Small Text</small>\")\n",
    "        superscriptTexte = MarkupText(\"<sup>Superscript text</sup>\")\n",
    "        subscriptTexte = MarkupText(\"<sub>Subscript text</sub>\")\n",
    "        \n",
    "        #Positionnement\n",
    "        typeWriterTexte.to_edge(UP)\n",
    "        bigTexte.next_to(typeWriterTexte, direction=DOWN, aligned_edge=LEFT)\n",
    "        smallTexte.next_to(bigTexte, direction=DOWN, aligned_edge=LEFT)\n",
    "        superscriptTexte.next_to(smallTexte, direction=DOWN, aligned_edge=LEFT)\n",
    "        subscriptTexte.next_to(superscriptTexte, direction=DOWN, aligned_edge=LEFT)\n",
    "        \n",
    "        #On anime nos textes\n",
    "        self.play(Write(typeWriterTexte))\n",
    "        self.play(Write(bigTexte))\n",
    "        self.play(Write(smallTexte))\n",
    "        self.play(Write(superscriptTexte))\n",
    "        self.play(Write(subscriptTexte))\n",
    "        self.wait(1)"
   ]
  },
  {
   "cell_type": "markdown",
   "id": "animal-oakland",
   "metadata": {},
   "source": [
    "### <center><u>IV.3. Span Markup</u></center>"
   ]
  },
  {
   "cell_type": "code",
   "execution_count": 13,
   "id": "functional-island",
   "metadata": {},
   "outputs": [
    {
     "data": {
      "text/html": [
       "<pre style=\"white-space:pre;overflow-x:auto;line-height:normal;font-family:Menlo,'DejaVu Sans Mono',consolas,'Courier New',monospace\"><span style=\"color: #7fbfbf\">[05/05/21 17:35:22] </span><span style=\"color: #008000\">INFO</span>     Animation <span style=\"color: #008000\">0</span> : Using cached data <span style=\"font-weight: bold\">(</span>hash :    <a href=\"file://c:\\python\\python39\\lib\\site-packages\\manim\\renderer\\cairo_renderer.py\"><span style=\"color: #7f7f7f\">cairo_renderer.py</span></a><span style=\"color: #7f7f7f\">:100</span>\n",
       "                             450974505_1329845628_467921245<span style=\"font-weight: bold\">)</span>                                 \n",
       "</pre>\n"
      ],
      "text/plain": [
       "<rich.jupyter.JupyterRenderable at 0x25e074f7f40>"
      ]
     },
     "metadata": {},
     "output_type": "display_data"
    },
    {
     "name": "stderr",
     "output_type": "stream",
     "text": [
      "                                                                                                                       \r"
     ]
    },
    {
     "data": {
      "text/html": [
       "<pre style=\"white-space:pre;overflow-x:auto;line-height:normal;font-family:Menlo,'DejaVu Sans Mono',consolas,'Courier New',monospace\"><span style=\"color: #7fbfbf\">[05/05/21 17:35:23] </span><span style=\"color: #008000\">INFO</span>     Animation <span style=\"color: #008000\">1</span> : Using cached data <span style=\"font-weight: bold\">(</span>hash :    <a href=\"file://c:\\python\\python39\\lib\\site-packages\\manim\\renderer\\cairo_renderer.py\"><span style=\"color: #7f7f7f\">cairo_renderer.py</span></a><span style=\"color: #7f7f7f\">:100</span>\n",
       "                             2788726626_670748450_901123451<span style=\"font-weight: bold\">)</span>                                 \n",
       "</pre>\n"
      ],
      "text/plain": [
       "<rich.jupyter.JupyterRenderable at 0x25e06d7a490>"
      ]
     },
     "metadata": {},
     "output_type": "display_data"
    },
    {
     "name": "stderr",
     "output_type": "stream",
     "text": [
      "                                                                                                                       \r"
     ]
    },
    {
     "data": {
      "text/html": [
       "<pre style=\"white-space:pre;overflow-x:auto;line-height:normal;font-family:Menlo,'DejaVu Sans Mono',consolas,'Courier New',monospace\"><span style=\"color: #7fbfbf\">                    </span><span style=\"color: #008000\">INFO</span>     Animation <span style=\"color: #008000\">2</span> : Using cached data <span style=\"font-weight: bold\">(</span>hash :    <a href=\"file://c:\\python\\python39\\lib\\site-packages\\manim\\renderer\\cairo_renderer.py\"><span style=\"color: #7f7f7f\">cairo_renderer.py</span></a><span style=\"color: #7f7f7f\">:100</span>\n",
       "                             2788726626_1564265669_4233104603<span style=\"font-weight: bold\">)</span>                               \n",
       "</pre>\n"
      ],
      "text/plain": [
       "<rich.jupyter.JupyterRenderable at 0x25e074f7460>"
      ]
     },
     "metadata": {},
     "output_type": "display_data"
    },
    {
     "name": "stderr",
     "output_type": "stream",
     "text": [
      "                                                                                                                       \r"
     ]
    },
    {
     "data": {
      "text/html": [
       "<pre style=\"white-space:pre;overflow-x:auto;line-height:normal;font-family:Menlo,'DejaVu Sans Mono',consolas,'Courier New',monospace\"><span style=\"color: #7fbfbf\">[05/05/21 17:35:25] </span><span style=\"color: #008000\">INFO</span>     Animation <span style=\"color: #008000\">3</span> : Partial movie file        <a href=\"file://c:\\python\\python39\\lib\\site-packages\\manim\\scene\\scene_file_writer.py\"><span style=\"color: #7f7f7f\">scene_file_writer.py</span></a><span style=\"color: #7f7f7f\">:401</span>\n",
       "                             written in <span style=\"font-weight: bold\">{</span><span style=\"color: #008000\">'C:\\\\Users\\\\foxxp\\\\media\\\\v</span>                         \n",
       "                             <span style=\"color: #008000\">ideos\\\\foxxp\\\\1080p60\\\\partial_movie_fi</span>                         \n",
       "                             <span style=\"color: #008000\">les\\\\SpanMarkUp\\\\2788726626_536787193_1</span>                         \n",
       "                             <span style=\"color: #008000\">185780478.mp4'</span><span style=\"font-weight: bold\">}</span>                                                 \n",
       "</pre>\n"
      ],
      "text/plain": [
       "<rich.jupyter.JupyterRenderable at 0x25e052bba30>"
      ]
     },
     "metadata": {},
     "output_type": "display_data"
    },
    {
     "name": "stderr",
     "output_type": "stream",
     "text": [
      "                                                                                                                       \r"
     ]
    },
    {
     "data": {
      "text/html": [
       "<pre style=\"white-space:pre;overflow-x:auto;line-height:normal;font-family:Menlo,'DejaVu Sans Mono',consolas,'Courier New',monospace\"><span style=\"color: #7fbfbf\">[05/05/21 17:35:27] </span><span style=\"color: #008000\">INFO</span>     Animation <span style=\"color: #008000\">4</span> : Partial movie file        <a href=\"file://c:\\python\\python39\\lib\\site-packages\\manim\\scene\\scene_file_writer.py\"><span style=\"color: #7f7f7f\">scene_file_writer.py</span></a><span style=\"color: #7f7f7f\">:401</span>\n",
       "                             written in <span style=\"font-weight: bold\">{</span><span style=\"color: #008000\">'C:\\\\Users\\\\foxxp\\\\media\\\\v</span>                         \n",
       "                             <span style=\"color: #008000\">ideos\\\\foxxp\\\\1080p60\\\\partial_movie_fi</span>                         \n",
       "                             <span style=\"color: #008000\">les\\\\SpanMarkUp\\\\2788726626_3807312089_</span>                         \n",
       "                             <span style=\"color: #008000\">4227573271.mp4'</span><span style=\"font-weight: bold\">}</span>                                                \n",
       "</pre>\n"
      ],
      "text/plain": [
       "<rich.jupyter.JupyterRenderable at 0x25e06db9040>"
      ]
     },
     "metadata": {},
     "output_type": "display_data"
    },
    {
     "name": "stderr",
     "output_type": "stream",
     "text": [
      "                                                                                                                       \r"
     ]
    },
    {
     "data": {
      "text/html": [
       "<pre style=\"white-space:pre;overflow-x:auto;line-height:normal;font-family:Menlo,'DejaVu Sans Mono',consolas,'Courier New',monospace\"><span style=\"color: #7fbfbf\">[05/05/21 17:35:29] </span><span style=\"color: #008000\">INFO</span>     Animation <span style=\"color: #008000\">5</span> : Partial movie file        <a href=\"file://c:\\python\\python39\\lib\\site-packages\\manim\\scene\\scene_file_writer.py\"><span style=\"color: #7f7f7f\">scene_file_writer.py</span></a><span style=\"color: #7f7f7f\">:401</span>\n",
       "                             written in <span style=\"font-weight: bold\">{</span><span style=\"color: #008000\">'C:\\\\Users\\\\foxxp\\\\media\\\\v</span>                         \n",
       "                             <span style=\"color: #008000\">ideos\\\\foxxp\\\\1080p60\\\\partial_movie_fi</span>                         \n",
       "                             <span style=\"color: #008000\">les\\\\SpanMarkUp\\\\2788726626_3640738088_</span>                         \n",
       "                             <span style=\"color: #008000\">2665110049.mp4'</span><span style=\"font-weight: bold\">}</span>                                                \n",
       "</pre>\n"
      ],
      "text/plain": [
       "<rich.jupyter.JupyterRenderable at 0x25e0a581fa0>"
      ]
     },
     "metadata": {},
     "output_type": "display_data"
    },
    {
     "data": {
      "text/html": [
       "<pre style=\"white-space:pre;overflow-x:auto;line-height:normal;font-family:Menlo,'DejaVu Sans Mono',consolas,'Courier New',monospace\"><span style=\"color: #7fbfbf\">[05/05/21 17:35:31] </span><span style=\"color: #008000\">INFO</span>     Animation <span style=\"color: #008000\">6</span> : Partial movie file        <a href=\"file://c:\\python\\python39\\lib\\site-packages\\manim\\scene\\scene_file_writer.py\"><span style=\"color: #7f7f7f\">scene_file_writer.py</span></a><span style=\"color: #7f7f7f\">:401</span>\n",
       "                             written in <span style=\"font-weight: bold\">{</span><span style=\"color: #008000\">'C:\\\\Users\\\\foxxp\\\\media\\\\v</span>                         \n",
       "                             <span style=\"color: #008000\">ideos\\\\foxxp\\\\1080p60\\\\partial_movie_fi</span>                         \n",
       "                             <span style=\"color: #008000\">les\\\\SpanMarkUp\\\\2788726626_2432241074_</span>                         \n",
       "                             <span style=\"color: #008000\">4067384745.mp4'</span><span style=\"font-weight: bold\">}</span>                                                \n",
       "</pre>\n"
      ],
      "text/plain": [
       "<rich.jupyter.JupyterRenderable at 0x25e06d9d310>"
      ]
     },
     "metadata": {},
     "output_type": "display_data"
    },
    {
     "data": {
      "text/html": [
       "<pre style=\"white-space:pre;overflow-x:auto;line-height:normal;font-family:Menlo,'DejaVu Sans Mono',consolas,'Courier New',monospace\"><span style=\"color: #7fbfbf\">                    </span><span style=\"color: #008000\">INFO</span>                                             <a href=\"file://c:\\python\\python39\\lib\\site-packages\\manim\\scene\\scene_file_writer.py\"><span style=\"color: #7f7f7f\">scene_file_writer.py</span></a><span style=\"color: #7f7f7f\">:585</span>\n",
       "                             <span style=\"color: #808000; font-weight: bold\">File</span> ready at C:\\Users\\foxxp\\media\\vide                         \n",
       "                             os\\foxxp\\1080p60\\SpanMarkUp.mp4                                 \n",
       "                                                                                             \n",
       "</pre>\n"
      ],
      "text/plain": [
       "<rich.jupyter.JupyterRenderable at 0x25e06d9da30>"
      ]
     },
     "metadata": {},
     "output_type": "display_data"
    },
    {
     "data": {
      "text/html": [
       "<pre style=\"white-space:pre;overflow-x:auto;line-height:normal;font-family:Menlo,'DejaVu Sans Mono',consolas,'Courier New',monospace\"><span style=\"color: #7fbfbf\">                    </span><span style=\"color: #008000\">INFO</span>     <span style=\"color: #808000; font-weight: bold\">Rendered</span> SpanMarkUp                                 <a href=\"file://c:\\python\\python39\\lib\\site-packages\\manim\\scene\\scene.py\"><span style=\"color: #7f7f7f\">scene.py</span></a><span style=\"color: #7f7f7f\">:217</span>\n",
       "                             <span style=\"color: #808000; font-weight: bold\">Played</span> <span style=\"color: #008000\">7</span> <span style=\"color: #808000; font-weight: bold\">animations</span>                                             \n",
       "</pre>\n"
      ],
      "text/plain": [
       "<rich.jupyter.JupyterRenderable at 0x25e06d9d520>"
      ]
     },
     "metadata": {},
     "output_type": "display_data"
    },
    {
     "data": {
      "text/html": [
       "<video src=\"media\\jupyter\\f049d1fcc32af41d2f1bb65f936ae2194a87205c.mp4\" controls autoplay loop style=\"max-width: 25vw;\"  >\n",
       "      Your browser does not support the <code>video</code> element.\n",
       "    </video>"
      ],
      "text/plain": [
       "<IPython.core.display.Video object>"
      ]
     },
     "metadata": {},
     "output_type": "display_data"
    }
   ],
   "source": [
    "%%manim SpanMarkUp\n",
    "\n",
    "from manim import *\n",
    "class SpanMarkUp(Scene):\n",
    "    def construct(self):\n",
    "        #Les textes\n",
    "        errorUnderline = MarkupText(\"<span underline=\\\"error\\\">Erreur soulignée</span>\")\n",
    "        doubleUnderline = MarkupText(\"<span underline=\\\"double\\\">Double soulignement</span>\")\n",
    "        overline = MarkupText('<span overline=\"single\">Overline single</span>')\n",
    "        strikethrough = MarkupText('<span strikethrough=\"true\" strikethrough_color=\"yellow\">Strike Through</span>')\n",
    "        fontfamily = MarkupText('<span font_family=\"Roboto\">Roboto font</span>')\n",
    "        foreground = MarkupText('<span foreground=\"blue\">Foreground color</span>')\n",
    "        \n",
    "        #Positionnement\n",
    "        errorUnderline.to_edge(UP)\n",
    "        doubleUnderline.next_to(errorUnderline, direction=DOWN, aligned_edge=LEFT)\n",
    "        overline.next_to(doubleUnderline, direction=DOWN, aligned_edge=LEFT)\n",
    "        strikethrough.next_to(overline, direction=DOWN, aligned_edge=LEFT)\n",
    "        fontfamily.next_to(strikethrough, direction=DOWN, aligned_edge=LEFT)\n",
    "        foreground.next_to(fontfamily, direction=DOWN, aligned_edge=LEFT)\n",
    "        \n",
    "        #Animation de la scène\n",
    "        self.play(Create(errorUnderline))\n",
    "        self.play(Create(doubleUnderline))\n",
    "        self.play(Create(overline))\n",
    "        self.play(Create(strikethrough))\n",
    "        self.play(Create(fontfamily))\n",
    "        self.play(Create(foreground))\n",
    "        self.wait(1)"
   ]
  },
  {
   "cell_type": "markdown",
   "id": "hydraulic-authentication",
   "metadata": {},
   "source": [
    "### <center><u>IV.4. Créer un gradient de couleurs</u></center>"
   ]
  },
  {
   "cell_type": "code",
   "execution_count": 15,
   "id": "needed-paint",
   "metadata": {},
   "outputs": [
    {
     "name": "stderr",
     "output_type": "stream",
     "text": [
      "                                                                                                                       \r"
     ]
    },
    {
     "data": {
      "text/html": [
       "<pre style=\"white-space:pre;overflow-x:auto;line-height:normal;font-family:Menlo,'DejaVu Sans Mono',consolas,'Courier New',monospace\"><span style=\"color: #7fbfbf\">[05/05/21 17:38:55] </span><span style=\"color: #008000\">INFO</span>     Animation <span style=\"color: #008000\">0</span> : Partial movie file        <a href=\"file://c:\\python\\python39\\lib\\site-packages\\manim\\scene\\scene_file_writer.py\"><span style=\"color: #7f7f7f\">scene_file_writer.py</span></a><span style=\"color: #7f7f7f\">:401</span>\n",
       "                             written in <span style=\"font-weight: bold\">{</span><span style=\"color: #008000\">'C:\\\\Users\\\\foxxp\\\\media\\\\v</span>                         \n",
       "                             <span style=\"color: #008000\">ideos\\\\foxxp\\\\1080p60\\\\partial_movie_fi</span>                         \n",
       "                             <span style=\"color: #008000\">les\\\\GradientAnimation\\\\450974505_14774</span>                         \n",
       "                             <span style=\"color: #008000\">07539_3632616297.mp4'</span><span style=\"font-weight: bold\">}</span>                                          \n",
       "</pre>\n"
      ],
      "text/plain": [
       "<rich.jupyter.JupyterRenderable at 0x25e0a54f460>"
      ]
     },
     "metadata": {},
     "output_type": "display_data"
    },
    {
     "name": "stderr",
     "output_type": "stream",
     "text": [
      "                                                                                                                       \r"
     ]
    },
    {
     "data": {
      "text/html": [
       "<pre style=\"white-space:pre;overflow-x:auto;line-height:normal;font-family:Menlo,'DejaVu Sans Mono',consolas,'Courier New',monospace\"><span style=\"color: #7fbfbf\">[05/05/21 17:38:58] </span><span style=\"color: #008000\">INFO</span>     Animation <span style=\"color: #008000\">1</span> : Partial movie file        <a href=\"file://c:\\python\\python39\\lib\\site-packages\\manim\\scene\\scene_file_writer.py\"><span style=\"color: #7f7f7f\">scene_file_writer.py</span></a><span style=\"color: #7f7f7f\">:401</span>\n",
       "                             written in <span style=\"font-weight: bold\">{</span><span style=\"color: #008000\">'C:\\\\Users\\\\foxxp\\\\media\\\\v</span>                         \n",
       "                             <span style=\"color: #008000\">ideos\\\\foxxp\\\\1080p60\\\\partial_movie_fi</span>                         \n",
       "                             <span style=\"color: #008000\">les\\\\GradientAnimation\\\\2788726626_4409</span>                         \n",
       "                             <span style=\"color: #008000\">54203_741539801.mp4'</span><span style=\"font-weight: bold\">}</span>                                           \n",
       "</pre>\n"
      ],
      "text/plain": [
       "<rich.jupyter.JupyterRenderable at 0x25e06d62eb0>"
      ]
     },
     "metadata": {},
     "output_type": "display_data"
    },
    {
     "data": {
      "text/html": [
       "<pre style=\"white-space:pre;overflow-x:auto;line-height:normal;font-family:Menlo,'DejaVu Sans Mono',consolas,'Courier New',monospace\"><span style=\"color: #7fbfbf\">[05/05/21 17:38:59] </span><span style=\"color: #008000\">INFO</span>     Animation <span style=\"color: #008000\">2</span> : Partial movie file        <a href=\"file://c:\\python\\python39\\lib\\site-packages\\manim\\scene\\scene_file_writer.py\"><span style=\"color: #7f7f7f\">scene_file_writer.py</span></a><span style=\"color: #7f7f7f\">:401</span>\n",
       "                             written in <span style=\"font-weight: bold\">{</span><span style=\"color: #008000\">'C:\\\\Users\\\\foxxp\\\\media\\\\v</span>                         \n",
       "                             <span style=\"color: #008000\">ideos\\\\foxxp\\\\1080p60\\\\partial_movie_fi</span>                         \n",
       "                             <span style=\"color: #008000\">les\\\\GradientAnimation\\\\2788726626_2432</span>                         \n",
       "                             <span style=\"color: #008000\">241074_295111209.mp4'</span><span style=\"font-weight: bold\">}</span>                                          \n",
       "</pre>\n"
      ],
      "text/plain": [
       "<rich.jupyter.JupyterRenderable at 0x25e052501f0>"
      ]
     },
     "metadata": {},
     "output_type": "display_data"
    },
    {
     "data": {
      "text/html": [
       "<pre style=\"white-space:pre;overflow-x:auto;line-height:normal;font-family:Menlo,'DejaVu Sans Mono',consolas,'Courier New',monospace\"><span style=\"color: #7fbfbf\">                    </span><span style=\"color: #008000\">INFO</span>                                             <a href=\"file://c:\\python\\python39\\lib\\site-packages\\manim\\scene\\scene_file_writer.py\"><span style=\"color: #7f7f7f\">scene_file_writer.py</span></a><span style=\"color: #7f7f7f\">:585</span>\n",
       "                             <span style=\"color: #808000; font-weight: bold\">File</span> ready at C:\\Users\\foxxp\\media\\vide                         \n",
       "                             os\\foxxp\\1080p60\\GradientAnimation.mp4                          \n",
       "                                                                                             \n",
       "</pre>\n"
      ],
      "text/plain": [
       "<rich.jupyter.JupyterRenderable at 0x25e05250dc0>"
      ]
     },
     "metadata": {},
     "output_type": "display_data"
    },
    {
     "data": {
      "text/html": [
       "<pre style=\"white-space:pre;overflow-x:auto;line-height:normal;font-family:Menlo,'DejaVu Sans Mono',consolas,'Courier New',monospace\"><span style=\"color: #7fbfbf\">                    </span><span style=\"color: #008000\">INFO</span>     <span style=\"color: #808000; font-weight: bold\">Rendered</span> GradientAnimation                          <a href=\"file://c:\\python\\python39\\lib\\site-packages\\manim\\scene\\scene.py\"><span style=\"color: #7f7f7f\">scene.py</span></a><span style=\"color: #7f7f7f\">:217</span>\n",
       "                             <span style=\"color: #808000; font-weight: bold\">Played</span> <span style=\"color: #008000\">3</span> <span style=\"color: #808000; font-weight: bold\">animations</span>                                             \n",
       "</pre>\n"
      ],
      "text/plain": [
       "<rich.jupyter.JupyterRenderable at 0x25e05250f40>"
      ]
     },
     "metadata": {},
     "output_type": "display_data"
    },
    {
     "data": {
      "text/html": [
       "<video src=\"media\\jupyter\\2edb77b3f724f45adcc48f9a870af8f91959dd1c.mp4\" controls autoplay loop style=\"max-width: 25vw;\"  >\n",
       "      Your browser does not support the <code>video</code> element.\n",
       "    </video>"
      ],
      "text/plain": [
       "<IPython.core.display.Video object>"
      ]
     },
     "metadata": {},
     "output_type": "display_data"
    }
   ],
   "source": [
    "%%manim GradientAnimation\n",
    "\n",
    "from manim import *\n",
    "class GradientAnimation(Scene):\n",
    "    def construct(self):\n",
    "        #Le texte\n",
    "        gradientBleuRougeTexte = MarkupText(\"<gradient from=\\\"BLUE\\\" to=\\\"RED\\\">Du bleu au rouge</gradient>\")\n",
    "        gradientOrangeRoseTexte = MarkupText(\"<gradient from=\\\"ORANGE\\\" to=\\\"PINK\\\">De l'orange au rose</gradient>\")\n",
    "        \n",
    "        #Positionnement\n",
    "        gradientBleuRougeTexte.to_edge(UP)\n",
    "        gradientOrangeRoseTexte.to_edge(DOWN)\n",
    "        \n",
    "        #On anime le texte\n",
    "        self.play(Write(gradientBleuRougeTexte))\n",
    "        self.play(Write(gradientOrangeRoseTexte))\n",
    "        self.wait(1)"
   ]
  },
  {
   "cell_type": "markdown",
   "id": "rubber-moderator",
   "metadata": {},
   "source": [
    "# V. La classe Paragraph"
   ]
  },
  {
   "cell_type": "code",
   "execution_count": null,
   "id": "knowing-peninsula",
   "metadata": {},
   "outputs": [],
   "source": []
  }
 ],
 "metadata": {
  "kernelspec": {
   "display_name": "Python 3",
   "language": "python",
   "name": "python3"
  },
  "language_info": {
   "codemirror_mode": {
    "name": "ipython",
    "version": 3
   },
   "file_extension": ".py",
   "mimetype": "text/x-python",
   "name": "python",
   "nbconvert_exporter": "python",
   "pygments_lexer": "ipython3",
   "version": "3.9.2"
  }
 },
 "nbformat": 4,
 "nbformat_minor": 5
}
