{
 "cells": [
  {
   "cell_type": "code",
   "execution_count": null,
   "id": "intermediate-jewel",
   "metadata": {},
   "outputs": [],
   "source": [
    "import jupyter_manim"
   ]
  },
  {
   "cell_type": "markdown",
   "id": "raised-alliance",
   "metadata": {},
   "source": [
    "# I. afficher du texte"
   ]
  },
  {
   "cell_type": "markdown",
   "id": "falling-performer",
   "metadata": {},
   "source": [
    "### <center><u>I.1. Un premier texte</u></center>"
   ]
  },
  {
   "cell_type": "markdown",
   "id": "asian-payday",
   "metadata": {},
   "source": [
    "<u>Les textes qui ne contiennent pas de formules mathématiques</u> doivent être de la classe **Text**."
   ]
  },
  {
   "cell_type": "code",
   "execution_count": null,
   "id": "sought-compromise",
   "metadata": {},
   "outputs": [],
   "source": [
    "%%manim FirstText\n",
    "\n",
    "from manim import *\n",
    "class FirstText(Scene):\n",
    "    def construct(self):\n",
    "        monTexte = Text(\"Instancions notre premier texte\")\n",
    "        self.add(monTexte)\n",
    "        self.wait(1)"
   ]
  },
  {
   "cell_type": "markdown",
   "id": "invisible-nurse",
   "metadata": {},
   "source": [
    "<u>Récapitulatifs</u>\n",
    "\n",
    "<b>monTexte = Text(\"Instancions notre premier texte\")</b> : Instanciation de la chaîne de caractères \"Instancions notre premier texte\" dans un objet Text\n",
    "\n",
    "<b>self.add(monTexte)</b> : On ajoute le texte à la scène\n",
    "\n",
    "<b>self.wait(1)</b> : On attend une seconde après l'apparition du texte"
   ]
  },
  {
   "cell_type": "markdown",
   "id": "emotional-popularity",
   "metadata": {},
   "source": [
    "### <center> <u>I.2. Un exemple un petit peu plus élaboré</u></center>"
   ]
  },
  {
   "cell_type": "code",
   "execution_count": null,
   "id": "genetic-ethernet",
   "metadata": {},
   "outputs": [],
   "source": [
    "%%manim PositionText\n",
    "\n",
    "from manim import *\n",
    "\n",
    "class PositionText(Scene):\n",
    "    def construct(self):\n",
    "        \n",
    "        #On instancie nos objets Text\n",
    "        hautTexte = Text(\"Haut\")\n",
    "        droiteTexte = Text(\"Droite\")\n",
    "        basTexte = Text(\"Bas\")\n",
    "        gaucheTexte = Text(\"Gauche\")\n",
    "        \n",
    "        #On choisit la couleur des textes\n",
    "        hautTexte.set_color(WHITE)\n",
    "        droiteTexte.set_color(RED)\n",
    "        basTexte.set_color(YELLOW)\n",
    "        gaucheTexte.set_color(GREEN)\n",
    "        \n",
    "        #On positionne les textes\n",
    "        hautTexte.to_edge(UP)\n",
    "        droiteTexte.to_edge(RIGHT)\n",
    "        basTexte.to_edge(DOWN)\n",
    "        gaucheTexte.to_edge(LEFT)\n",
    "        \n",
    "        #On change la taille des texte avec scale\n",
    "        hautTexte.scale(0.5)\n",
    "        droiteTexte.scale(0.75)\n",
    "        basTexte.scale(1)\n",
    "        gaucheTexte.scale(1.25)\n",
    "        \n",
    "        listeTextes = [hautTexte, droiteTexte, basTexte, gaucheTexte]\n",
    "        \n",
    "        #On joue une animation de création pour chaque texte\n",
    "        for texte in listeTextes:\n",
    "            self.play(Create(texte))\n",
    "            self.wait(0.5)\n",
    "        "
   ]
  },
  {
   "cell_type": "markdown",
   "id": "neither-destiny",
   "metadata": {},
   "source": [
    "### <center> <u>I.3. Aligner des textes</u></center>"
   ]
  },
  {
   "cell_type": "code",
   "execution_count": null,
   "id": "undefined-consultation",
   "metadata": {},
   "outputs": [],
   "source": [
    "%%manim AlignerTexteAnimation\n",
    "\n",
    "from manim import *\n",
    "class AlignerTexteAnimation(Scene):\n",
    "    def construct(self):\n",
    "        scaleValue = 0.75\n",
    "        \n",
    "        #On créé nos textes\n",
    "        texte1 = Text(\"1. Introduction\").set_color(WHITE).scale(scaleValue)\n",
    "        texte1.to_corner(UL)\n",
    "        \n",
    "        texte2 = Text(\"2. La suite de Fibonacci\").set_color(WHITE).scale(scaleValue)\n",
    "        texte2.next_to(texte1, direction=DOWN, aligned_edge=LEFT)\n",
    "        \n",
    "        texte3 = Text(\"3. La memoïsation\").set_color(WHITE).scale(scaleValue)\n",
    "        texte3.next_to(texte2, direction=DOWN, aligned_edge=LEFT)\n",
    "        \n",
    "        texte4 = Text(\"4. La programmation dynamique\").set_color(WHITE).scale(scaleValue)\n",
    "        texte4.next_to(texte3, direction=DOWN, aligned_edge=LEFT)\n",
    "        \n",
    "        texte5 = Text(\"5. Conclusion\").set_color(WHITE).scale(scaleValue)\n",
    "        texte5.next_to(texte4, direction=DOWN, aligned_edge=LEFT)\n",
    "        \n",
    "        listeTextes = [texte1, texte2, texte3, texte4, texte5]\n",
    "        \n",
    "        #On anime nos textes\n",
    "        for texte in listeTextes:\n",
    "            self.play(Create(texte))\n",
    "            self.wait(0.5)\n",
    "            \n",
    "        #On supprime le texte\n",
    "        for texte in listeTextes[::-1]:\n",
    "            self.play(Uncreate(texte))\n",
    "            self.wait(0.5)\n",
    "            \n",
    "        self.wait(1)"
   ]
  },
  {
   "cell_type": "markdown",
   "id": "frequent-opinion",
   "metadata": {},
   "source": [
    "# II. Les animations spécifiques aux textes"
   ]
  },
  {
   "cell_type": "markdown",
   "id": "accepted-environment",
   "metadata": {},
   "source": [
    "### <center><u>II.1. Write et Unwrite</u></center>"
   ]
  },
  {
   "cell_type": "markdown",
   "id": "welsh-bunny",
   "metadata": {},
   "source": [
    "Permet de créer une animation d'écriture d'un texte."
   ]
  },
  {
   "cell_type": "code",
   "execution_count": null,
   "id": "catholic-plastic",
   "metadata": {},
   "outputs": [],
   "source": [
    "%%manim WriteAnimation\n",
    "\n",
    "from manim import *\n",
    "class WriteAnimation(Scene):\n",
    "    def construct(self):\n",
    "        #On créé et on paramètre notre objet Text\n",
    "        monTexte = Text(\"La suite de Fibonacci\")\n",
    "        monTexte.set_color(GREEN)\n",
    "        monTexte.to_edge(UP)\n",
    "        \n",
    "        #On anime notre texte\n",
    "        self.play(Write(monTexte))\n",
    "        self.wait(1.5)\n",
    "        self.play(Unwrite(monTexte))\n",
    "        self.wait(1)"
   ]
  },
  {
   "cell_type": "markdown",
   "id": "equivalent-mention",
   "metadata": {},
   "source": [
    "### <center><u>II.2. AddTextWordByWord</u></center>"
   ]
  },
  {
   "cell_type": "markdown",
   "id": "extended-weekly",
   "metadata": {},
   "source": [
    "Affiche la phrase à l'écran, mot par mot."
   ]
  },
  {
   "cell_type": "markdown",
   "id": "decimal-sociology",
   "metadata": {},
   "source": [
    "**02/05/2021** : Actuellement, **cette animation ne marche pas**, mais elle devrait refonctionner après des patchs futurs."
   ]
  },
  {
   "cell_type": "code",
   "execution_count": null,
   "id": "biological-midnight",
   "metadata": {},
   "outputs": [],
   "source": [
    "%%manim AddTextWordByWordAnimation\n",
    "\n",
    "from manim import *\n",
    "class AddTextWordByWordAnimation(Scene):\n",
    "    def construct(self):\n",
    "        #On créé et on paramètre notre objet Text\n",
    "        monTexte = Text(\"Les mots de ce texte vont apparaître les uns après les autres.\")\n",
    "        monTexte.scale(0.5)\n",
    "        monTexte.set_color(YELLOW)\n",
    "        \n",
    "        #On anime notre texte\n",
    "        self.play(AddTextWordByWord(monTexte))\n",
    "        self.wait(1)"
   ]
  },
  {
   "cell_type": "markdown",
   "id": "marine-stable",
   "metadata": {},
   "source": [
    "### <center><u>II.3. AddTextLetterByLetter</u></center>"
   ]
  },
  {
   "cell_type": "markdown",
   "id": "contained-syria",
   "metadata": {},
   "source": [
    "Affiche le texte à l'écran, lettre par lettre."
   ]
  },
  {
   "cell_type": "code",
   "execution_count": null,
   "id": "separate-subject",
   "metadata": {},
   "outputs": [],
   "source": [
    "%%manim AddTextLetterByLetterAnimation\n",
    "\n",
    "from manim import *\n",
    "class AddTextLetterByLetterAnimation(Scene):\n",
    "    def construct(self):\n",
    "        #On créé et on paramètre notre objet Text\n",
    "        monTexte = Text(\"Les lettres de ce texte vont apparaître les unes après les autres.\")\n",
    "        monTexte.scale(0.5)\n",
    "        monTexte.set_color(YELLOW)\n",
    "        \n",
    "        #On anime notre texte\n",
    "        self.play(AddTextLetterByLetter(monTexte))\n",
    "        self.wait(1)"
   ]
  },
  {
   "cell_type": "markdown",
   "id": "prompt-thailand",
   "metadata": {},
   "source": [
    "# III. Mise en forme du texte : les shape matchers"
   ]
  },
  {
   "cell_type": "markdown",
   "id": "opening-valentine",
   "metadata": {},
   "source": [
    "Les shape matchers sont des formes qui vont s'adapter à la taille et à la longueur de vos éléments (comme votre texte par exemple)"
   ]
  },
  {
   "cell_type": "markdown",
   "id": "nervous-kansas",
   "metadata": {},
   "source": [
    "### <center><u>III.1. Entourer un texte</u></center>"
   ]
  },
  {
   "cell_type": "code",
   "execution_count": null,
   "id": "dramatic-swift",
   "metadata": {},
   "outputs": [],
   "source": [
    "%%manim EntourerTexteAnimation\n",
    "\n",
    "from manim import *\n",
    "class EntourerTexteAnimation(Scene):\n",
    "    def construct(self):\n",
    "        #On créé le texte\n",
    "        monTexte = Text(\"La conjecture de Syracuse\")\n",
    "        monTexte.to_edge(UP)\n",
    "        monTexte.set_color(YELLOW)\n",
    "\n",
    "        #On créé le rectangle qui va entourer le texte\n",
    "        rectangle = SurroundingRectangle(monTexte, color=RED, buff=0.1)\n",
    "\n",
    "        #On anime notre texte et notre rectangle\n",
    "        self.play(Write(monTexte))\n",
    "        self.play(Create(rectangle))\n",
    "        self.wait(1)\n",
    "        self.play(Uncreate(rectangle))\n",
    "        self.play(Unwrite(monTexte))\n",
    "        self.wait(1)"
   ]
  },
  {
   "cell_type": "markdown",
   "id": "opponent-machine",
   "metadata": {},
   "source": [
    "### <center><u>III.2. Souligner un texte</u></center>"
   ]
  },
  {
   "cell_type": "markdown",
   "id": "imperial-destruction",
   "metadata": {},
   "source": [
    "#### <center><u>III.2.1. Souligner tout le texte</u></center>"
   ]
  },
  {
   "cell_type": "code",
   "execution_count": null,
   "id": "equipped-locking",
   "metadata": {},
   "outputs": [],
   "source": [
    "%%manim SoulignerTexteAnimation\n",
    "\n",
    "from manim import *\n",
    "class SoulignerTexteAnimation(Scene):\n",
    "    def construct(self):\n",
    "        #On créé notre texte\n",
    "        monTexte = Text(\"Tutoriel français sur Manim Community\")\n",
    "        monTexte.set_color(YELLOW)\n",
    "        \n",
    "        #On créé notre soulignage\n",
    "        underline = Underline(monTexte, buff=0.1)\n",
    "        \n",
    "        #On créé nos animations\n",
    "        self.play(Create(monTexte), run_time=1.5)\n",
    "        self.play(GrowFromCenter(underline), run_time=1.5)\n",
    "        self.wait(1)"
   ]
  },
  {
   "cell_type": "markdown",
   "id": "premier-inclusion",
   "metadata": {},
   "source": [
    "#### <center><u>III.2.2. Souligner une partie du texte seulement</u></center>"
   ]
  },
  {
   "cell_type": "code",
   "execution_count": null,
   "id": "greenhouse-title",
   "metadata": {},
   "outputs": [],
   "source": [
    "%%manim SoulignerUnePartieDuTexteAnimation\n",
    "\n",
    "from manim import *\n",
    "class SoulignerUnePartieDuTexteAnimation(Scene):\n",
    "    def construct(self):\n",
    "        #On créé notre texte\n",
    "        monTexte = Text(\"Tutoriel français sur Manim Community\")\n",
    "        monTexte.set_color(YELLOW)\n",
    "        \n",
    "        #On souligne seulement le mot \"français\"\n",
    "        underline = Underline(monTexte[8:16], buff=0.1)\n",
    "        underline.set_color(YELLOW)\n",
    "        \n",
    "        #On créé nos animations\n",
    "        self.play(Create(monTexte), run_time=1)\n",
    "        self.play(GrowFromCenter(underline), run_time=1)\n",
    "        self.wait(1)"
   ]
  },
  {
   "cell_type": "markdown",
   "id": "canadian-broadcast",
   "metadata": {},
   "source": [
    "### <center><u>III.3. Barrer un texte avec une croix</u></center>"
   ]
  },
  {
   "cell_type": "code",
   "execution_count": null,
   "id": "junior-blond",
   "metadata": {},
   "outputs": [],
   "source": [
    "%%manim BarrerUnTexte\n",
    "\n",
    "from manim import *\n",
    "class BarrerUnTexte(Scene):\n",
    "    def construct(self):\n",
    "        #On créé notre texte\n",
    "        monTexte = Text(\"Je suis un texte complètement barré!\")\n",
    "        \n",
    "        #On créé l'élément cross qui va barrer le texte\n",
    "        cross = Cross(monTexte)\n",
    "        \n",
    "        #On anime notre scène\n",
    "        self.play(Create(monTexte))\n",
    "        self.play(SpinInFromNothing(cross))\n",
    "        self.wait(1)"
   ]
  },
  {
   "cell_type": "markdown",
   "id": "close-showcase",
   "metadata": {},
   "source": [
    "### <center><u>III.4. Créer un rectangle de fond</u></center>"
   ]
  },
  {
   "cell_type": "code",
   "execution_count": null,
   "id": "applicable-louisiana",
   "metadata": {},
   "outputs": [],
   "source": [
    "%%manim BackgroundRectangleAnimation\n",
    "\n",
    "from manim import *\n",
    "class BackgroundRectangleAnimation(Scene):\n",
    "    def construct(self):\n",
    "        #Le texte\n",
    "        monTexte = Text(\"Un texte qui a un bon fond!\")\n",
    "        \n",
    "        #Le rectangle de fond\n",
    "        rectangle = BackgroundRectangle(monTexte, color=RED, fill_opacity=0.5)\n",
    "        \n",
    "        #Animation de la scène\n",
    "        self.play(Create(monTexte))\n",
    "        self.play(Create(rectangle))\n",
    "        self.wait(1)"
   ]
  },
  {
   "cell_type": "markdown",
   "id": "black-bullet",
   "metadata": {},
   "source": [
    "# IV. MarkupText"
   ]
  },
  {
   "cell_type": "code",
   "execution_count": null,
   "id": "minor-glasgow",
   "metadata": {},
   "outputs": [],
   "source": []
  }
 ],
 "metadata": {
  "kernelspec": {
   "display_name": "Python 3",
   "language": "python",
   "name": "python3"
  },
  "language_info": {
   "codemirror_mode": {
    "name": "ipython",
    "version": 3
   },
   "file_extension": ".py",
   "mimetype": "text/x-python",
   "name": "python",
   "nbconvert_exporter": "python",
   "pygments_lexer": "ipython3",
   "version": "3.9.2"
  }
 },
 "nbformat": 4,
 "nbformat_minor": 5
}
