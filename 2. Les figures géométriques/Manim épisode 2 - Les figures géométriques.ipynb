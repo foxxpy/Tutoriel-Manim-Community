{
 "cells": [
  {
   "cell_type": "markdown",
   "id": "decent-substance",
   "metadata": {},
   "source": [
    "# I. Les figures géométriques"
   ]
  },
  {
   "cell_type": "code",
   "execution_count": null,
   "id": "premium-middle",
   "metadata": {},
   "outputs": [],
   "source": [
    "import jupyter_manim"
   ]
  },
  {
   "cell_type": "markdown",
   "id": "surprising-overhead",
   "metadata": {},
   "source": [
    "Cet import nous permet d'utiliser les **magic cells** %%manim qui vont lancer les animations dans ce notebook jupyter."
   ]
  },
  {
   "cell_type": "markdown",
   "id": "cheap-dodge",
   "metadata": {},
   "source": [
    "Pour plus d'informations sur les figures géométriques et les formes simples que vous pouvez créer, vous pouvez aller sur la **documentation** : https://docs.manim.community/en/stable/reference/manim.mobject.geometry.html#module-manim.mobject.geometry"
   ]
  },
  {
   "cell_type": "markdown",
   "id": "affiliated-classics",
   "metadata": {},
   "source": [
    "### <center><u>I.1. Le cercle</u></center>"
   ]
  },
  {
   "cell_type": "code",
   "execution_count": null,
   "id": "congressional-observer",
   "metadata": {},
   "outputs": [],
   "source": [
    "%%manim FirstCircle\n",
    "\n",
    "from manim import *\n",
    "class FirstCircle(Scene):\n",
    "    def construct(self):\n",
    "        circle = Circle(color=RED)                   \n",
    "        circle.set_fill(BLUE, opacity=0.5)  \n",
    "        self.play(Create(circle))\n",
    "        self.wait(1)"
   ]
  },
  {
   "cell_type": "markdown",
   "id": "gothic-potato",
   "metadata": {},
   "source": [
    "<u><b>Explication ligne par ligne</b></u>\n",
    "\n",
    "<b>from manim import * </b> : on importe tous les éléments du module manim\n",
    "    \n",
    "<b>class FirstCircle(Scene)</b> : on créé une classe nommée \"FirstCircle\" qui hérite de la classe Scene\n",
    "    \n",
    "<b>def construct(self) </b> : le constructeur de notre classe FirstCircle\n",
    "    \n",
    "<b>circle = Circle() </b>: on créé une variable nommée circle qui représente un objet de la classe Circle\n",
    "    \n",
    "<b>circle.set_fill(PINK, opacity=0.5) </b>: on définit la couleur du cercle comme rose et on lui donne une opacité de 50%\n",
    "    \n",
    "<b>self.play(Create(circle))</b> : On joue l'animation Create() qui prend en paramètre le cercle. Cela va donc créer une animation de création de cercle.\n",
    "    \n",
    "<b>self.wait(1) </b>: On attend 1 seconde avant de passer à la suite"
   ]
  },
  {
   "cell_type": "markdown",
   "id": "outside-ethernet",
   "metadata": {},
   "source": [
    "### <center><u>I.2. Le carré</u></center>"
   ]
  },
  {
   "cell_type": "code",
   "execution_count": null,
   "id": "north-feedback",
   "metadata": {},
   "outputs": [],
   "source": [
    "%%manim FirstSquare\n",
    "\n",
    "from manim import *\n",
    "class FirstSquare(Scene):\n",
    "    def construct(self):\n",
    "        square = Square()\n",
    "        square.set_fill(YELLOW, opacity=1)\n",
    "        self.play(Create(square))\n",
    "        self.wait(1)"
   ]
  },
  {
   "cell_type": "markdown",
   "id": "occupational-approval",
   "metadata": {},
   "source": [
    "### <center><u>I.3. Le triangle</u></center>"
   ]
  },
  {
   "cell_type": "code",
   "execution_count": null,
   "id": "equal-holly",
   "metadata": {},
   "outputs": [],
   "source": [
    "%%manim FirstTriangle\n",
    "\n",
    "from manim import *\n",
    "class FirstTriangle(Scene):\n",
    "    def construct(self):\n",
    "        triangle = Triangle(color=RED)\n",
    "        triangle.set_fill(GREEN, opacity=0.4)\n",
    "        self.play(Create(triangle))\n",
    "        self.wait(1)"
   ]
  },
  {
   "cell_type": "markdown",
   "id": "dangerous-rotation",
   "metadata": {},
   "source": [
    "### <center><u>I.4. Le rectangle</u></center>"
   ]
  },
  {
   "cell_type": "code",
   "execution_count": null,
   "id": "ordinary-flower",
   "metadata": {},
   "outputs": [],
   "source": [
    "%%manim FirstRectangle\n",
    "\n",
    "from manim import *\n",
    "class FirstRectangle(Scene):\n",
    "    def construct(self):\n",
    "        rectangle = Rectangle(height=1, width=6, color=RED, opacity=1)\n",
    "        rectangle.set_fill(BLUE, opacity=0.75)\n",
    "        self.play(Create(rectangle))\n",
    "        self.wait(1)"
   ]
  },
  {
   "cell_type": "markdown",
   "id": "editorial-demographic",
   "metadata": {},
   "source": [
    "### <center><u>I.5. L'Ellipse</u></center>"
   ]
  },
  {
   "cell_type": "code",
   "execution_count": null,
   "id": "finite-stewart",
   "metadata": {},
   "outputs": [],
   "source": [
    "%%manim FirstEllipse\n",
    "\n",
    "from manim import *\n",
    "class FirstEllipse(Scene):\n",
    "    def construct(self):\n",
    "        ellipse = Ellipse(height=1, width=8, color=RED, opacity=1)\n",
    "        ellipse.set_fill(DARK_BLUE, opacity=0.75)\n",
    "        self.play(Create(ellipse))\n",
    "        self.wait(1)"
   ]
  },
  {
   "cell_type": "markdown",
   "id": "rental-sullivan",
   "metadata": {},
   "source": [
    "### <center><u>I.6. Une ligne</u></center>"
   ]
  },
  {
   "cell_type": "code",
   "execution_count": null,
   "id": "thermal-plasma",
   "metadata": {},
   "outputs": [],
   "source": [
    "%%manim FirstLine\n",
    "\n",
    "from manim import *\n",
    "class FirstLine(Scene):\n",
    "    def construct(self):\n",
    "        START = (-4,-3,0)\n",
    "        END = (4,1,0)\n",
    "        line = Line(START, END, color=YELLOW)\n",
    "        self.play(Create(line))\n",
    "        self.wait(1)\n",
    "        \n",
    "        START2 = (-4,4,0)\n",
    "        END2 = (4, -4, 0)\n",
    "        line2 = Line(START2, END2, color=RED)\n",
    "        self.play(Create(line2))\n",
    "        self.wait(2)"
   ]
  },
  {
   "cell_type": "markdown",
   "id": "moral-roman",
   "metadata": {},
   "source": [
    "### <center><u>I.7. L'anneau</u></center>"
   ]
  },
  {
   "cell_type": "code",
   "execution_count": null,
   "id": "assigned-courtesy",
   "metadata": {},
   "outputs": [],
   "source": [
    "%%manim FirstRing\n",
    "\n",
    "from manim import *\n",
    "class FirstRing(Scene):\n",
    "    def construct(self):\n",
    "        ring = Annulus(inner_radius=0.5, outer_radius=1, color=RED)\n",
    "        ring2 = Annulus(inner_radius=0.5, outer_radius=2, color=DARK_BLUE)\n",
    "        self.play(Create(ring2))\n",
    "        self.play(Create(ring))\n",
    "        self.wait(1.5)"
   ]
  },
  {
   "cell_type": "markdown",
   "id": "marked-numbers",
   "metadata": {},
   "source": [
    "**inner_radius** : le rayon interne de l'anneau\n",
    "\n",
    "**outer_radius** : le rayon externe de l'anneau"
   ]
  },
  {
   "cell_type": "markdown",
   "id": "exclusive-banner",
   "metadata": {},
   "source": [
    "### <center><u>I.8. Le point</u></center>"
   ]
  },
  {
   "cell_type": "code",
   "execution_count": null,
   "id": "charged-intermediate",
   "metadata": {},
   "outputs": [],
   "source": [
    "%%manim FirstDot\n",
    "\n",
    "from manim import *\n",
    "import numpy as np\n",
    "class FirstDot(Scene):\n",
    "    def construct(self):\n",
    "        dot = Dot(np.array([3,2,0]), color=YELLOW)\n",
    "        self.play(Create(dot))\n",
    "        self.wait(1)"
   ]
  },
  {
   "cell_type": "markdown",
   "id": "median-finnish",
   "metadata": {},
   "source": [
    "### <center><u>I.9. Le polygone</u></center>"
   ]
  },
  {
   "cell_type": "code",
   "execution_count": null,
   "id": "serious-church",
   "metadata": {},
   "outputs": [],
   "source": [
    "%%manim FirstPolygone\n",
    "\n",
    "from manim import *\n",
    "import numpy as np\n",
    "class FirstPolygone(Scene):\n",
    "    def construct(self):\n",
    "        point1 = np.array([-1,-1,0])\n",
    "        point2 = np.array([1,1,0])\n",
    "        point3 = np.array([3,2,0])\n",
    "        point4 = np.array([-2,3,0])\n",
    "        polygone = Polygon(point1, point2, point3, point4, color=DARK_BLUE)\n",
    "        polygone.set_fill(BLUE, opacity=0.8)\n",
    "        self.play(Create(polygone))\n",
    "        self.wait(2)"
   ]
  },
  {
   "cell_type": "markdown",
   "id": "smoking-spray",
   "metadata": {},
   "source": [
    "### <center><u>I.10. L'arc de cercle</u></center>"
   ]
  },
  {
   "cell_type": "code",
   "execution_count": null,
   "id": "cooked-hazard",
   "metadata": {},
   "outputs": [],
   "source": [
    "%%manim FirstArc\n",
    "\n",
    "import math\n",
    "from manim import *\n",
    "class FirstArc(Scene):\n",
    "    def construct(self):\n",
    "        angle = math.radians(360)\n",
    "        arc = Arc(radius=2, angle=angle, color=YELLOW)\n",
    "        arc.set_fill(YELLOW, opacity=1)\n",
    "        self.play(Create(arc))\n",
    "        self.wait(1)"
   ]
  },
  {
   "cell_type": "markdown",
   "id": "adaptive-logan",
   "metadata": {},
   "source": [
    "# II. Positionner les figures géométriques"
   ]
  },
  {
   "cell_type": "markdown",
   "id": "stainless-thermal",
   "metadata": {},
   "source": [
    "## <u>II.1. Les positions absolues</u>"
   ]
  },
  {
   "cell_type": "markdown",
   "id": "occupational-difficulty",
   "metadata": {},
   "source": [
    "### <center><u>II.1.1. La méthode to_edge()</u></center>"
   ]
  },
  {
   "cell_type": "code",
   "execution_count": null,
   "id": "diagnostic-event",
   "metadata": {},
   "outputs": [],
   "source": [
    "%%manim ToEdgeScene\n",
    "\n",
    "from manim import *\n",
    "class ToEdgeScene(Scene):\n",
    "    def construct(self):\n",
    "        #On construit nos figures géométriques\n",
    "        circle = Circle(color=RED)\n",
    "        circle.set_fill(RED, opacity=0.5)\n",
    "        \n",
    "        triangle = Triangle(color=GREEN)\n",
    "        triangle.set_fill(GREEN, opacity=0.5)\n",
    "        \n",
    "        square = Square(color=YELLOW)\n",
    "        square.set_fill(YELLOW, opacity=0.5)\n",
    "        \n",
    "        ring = Annulus(inner_radius=0.3, outer_radius=0.5, color=PINK)\n",
    "        ring.set_fill(PINK, opacity=0.5)\n",
    "        \n",
    "        #On ajoute les figures à la scène\n",
    "        self.add(circle, triangle, square, ring)\n",
    "        \n",
    "        #On positionne les figures sur les côtés de la scène\n",
    "        circle.to_edge(UP)\n",
    "        triangle.to_edge(RIGHT)\n",
    "        square.to_edge(DOWN)\n",
    "        ring.to_edge(LEFT)\n",
    "        \n",
    "        self.wait(2)"
   ]
  },
  {
   "cell_type": "markdown",
   "id": "specific-comfort",
   "metadata": {},
   "source": [
    "<u>Comme vous pouvez le constater par rapport au code ci-dessus </u>:\n",
    "    \n",
    "<b>circle.to_edge(UP) </b>: le cercle a été placé en haut\n",
    "\n",
    "<b>triangle.to_edge(RIGHT) </b>: le triangle a été placé à droite\n",
    "\n",
    "<b>square.to_edge(DOWN) </b>: le carré a été placé en bas\n",
    "\n",
    "<b>ring.to_edge(LEFT) </b> l'anneau a été placé à gauche"
   ]
  },
  {
   "cell_type": "markdown",
   "id": "herbal-directive",
   "metadata": {},
   "source": [
    "### <center><u>II.1.2. La méthode to_corner()</u></center>"
   ]
  },
  {
   "cell_type": "code",
   "execution_count": null,
   "id": "terminal-operations",
   "metadata": {},
   "outputs": [],
   "source": [
    "%%manim ToCornerScene\n",
    "\n",
    "from manim import *\n",
    "class ToCornerScene(Scene):\n",
    "    def construct(self):\n",
    "        #On construit nos figures géométriques\n",
    "        circle = Circle(color=RED)\n",
    "        circle.set_fill(RED, opacity=0.5)\n",
    "        \n",
    "        triangle = Triangle(color=GREEN)\n",
    "        triangle.set_fill(GREEN, opacity=0.5)\n",
    "        \n",
    "        square = Square(color=YELLOW)\n",
    "        square.set_fill(YELLOW, opacity=0.5)\n",
    "        \n",
    "        ring = Annulus(inner_radius=0.3, outer_radius=0.5, color=PINK)\n",
    "        ring.set_fill(PINK, opacity=0.5)\n",
    "        \n",
    "        #On ajoute les figures à la scène\n",
    "        self.add(circle)\n",
    "        self.add(triangle)\n",
    "        self.add(square)\n",
    "        self.add(ring)\n",
    "        \n",
    "        #On positionne les figures sur les côtés de la scène\n",
    "        circle.to_corner(UL)\n",
    "        triangle.to_corner(UR)\n",
    "        square.to_corner(DR)\n",
    "        ring.to_corner(DL)\n",
    "        \n",
    "        self.wait(2)"
   ]
  },
  {
   "cell_type": "markdown",
   "id": "young-facial",
   "metadata": {},
   "source": [
    "<u>Comme vous pouvez le constater par rapport au code ci-dessus </u>:\n",
    "    \n",
    "<b>circle.to_corner(UL) </b>: le cercle a été placé en haut à gauche\n",
    "\n",
    "<b>triangle.to_corner(UR) </b>: le triangle a été placé en haut à droite\n",
    "\n",
    "<b>square.to_corner(DR) </b>: le carré a été placé en bas à droite\n",
    "\n",
    "<b>ring.to_corner(DL) </b> l'anneau a été placé en bas à gauche\n",
    "\n",
    "<u>Pour résumer :</u>\n",
    "\n",
    "- **UR**: haut-droite\n",
    "\n",
    "- **UL**: haut-gauche\n",
    "\n",
    "- **DR**: bas-droite\n",
    "\n",
    "- **DL**: bas-gauche"
   ]
  },
  {
   "cell_type": "code",
   "execution_count": null,
   "id": "placed-framework",
   "metadata": {},
   "outputs": [],
   "source": []
  },
  {
   "cell_type": "markdown",
   "id": "terminal-syndrome",
   "metadata": {},
   "source": [
    "## <u>II.2. Les positions relatives</u>"
   ]
  },
  {
   "cell_type": "markdown",
   "id": "decent-prefix",
   "metadata": {},
   "source": [
    "### <center><u>II.2.1. La méthode move_to()</u></center>"
   ]
  },
  {
   "cell_type": "code",
   "execution_count": null,
   "id": "quality-looking",
   "metadata": {},
   "outputs": [],
   "source": [
    "%%manim MoveTo\n",
    "\n",
    "from manim import *\n",
    "\n",
    "class MoveTo(Scene):\n",
    "    def construct(self):\n",
    "        self.wait(0.5)\n",
    "        \n",
    "        #On créé un premier cercle\n",
    "        circle = Circle(color=GREEN)\n",
    "        circle.set_fill(GREEN, opacity=0.6)\n",
    "        self.add(circle)\n",
    "        self.wait(0.5)\n",
    "        \n",
    "        #On créé un second cercle positionné avec move_to\n",
    "        circle2 = Circle(color=YELLOW)\n",
    "        circle2.set_fill(YELLOW, opacity=0.6)\n",
    "        circle2.move_to(3*UP+RIGHT)\n",
    "        self.add(circle2)\n",
    "        self.wait(0.5)\n",
    "        \n",
    "        #On créé un troisième cercle positionné avec move_to et un vecteur\n",
    "        vector = np.array(([-2,-2,0]))\n",
    "        circle3 = Circle(color=RED)\n",
    "        circle3.set_fill(RED, opacity=0.6)\n",
    "        circle3.move_to(vector)\n",
    "        self.add(circle3)\n",
    "        self.wait(1)"
   ]
  },
  {
   "cell_type": "markdown",
   "id": "curious-halloween",
   "metadata": {},
   "source": [
    "### <center><u>II.2.2. La méthode next_to()</u></center>"
   ]
  },
  {
   "cell_type": "markdown",
   "id": "limiting-employer",
   "metadata": {},
   "source": [
    "La méthode next_to() permet de **placer un MObject à côté d'un autre MObject**."
   ]
  },
  {
   "cell_type": "code",
   "execution_count": null,
   "id": "native-warren",
   "metadata": {},
   "outputs": [],
   "source": [
    "%%manim NextTo\n",
    "\n",
    "from manim import *\n",
    "class NextTo(Scene):\n",
    "    def construct(self):\n",
    "        #On positionne un premier carré\n",
    "        square = Square(color=YELLOW)\n",
    "        square.set_fill(YELLOW, opacity=0.6)\n",
    "        \n",
    "        #On positionne un point rose à droite du carré\n",
    "        dotRight = Dot(color=PINK)\n",
    "        dotRight.next_to(square, direction=RIGHT, buff=0.5)\n",
    "        \n",
    "        #On positionne un point vert au-dessus du carré\n",
    "        dotUp = Dot(color=GREEN)\n",
    "        dotUp.next_to(square, direction=UP, buff=1)\n",
    "        \n",
    "        #On positionne un point rouge à gauche du carré\n",
    "        dotLeft = Dot(color=RED)\n",
    "        dotLeft.next_to(square, direction=LEFT, buff=1.5)\n",
    "        \n",
    "        #On positionne un point blanc en-dessous du carré\n",
    "        dotDown = Dot()\n",
    "        dotDown.next_to(square, direction=DOWN, buff=2)\n",
    "        \n",
    "        #On ajoute nos éléments à la scène\n",
    "        self.add(square, dotRight, dotUp, dotLeft, dotDown)\n",
    "        self.wait(2)"
   ]
  },
  {
   "cell_type": "markdown",
   "id": "subject-third",
   "metadata": {},
   "source": [
    "Il est également possible de **placer les éléments dans les coins** avec UR, UL, DL ou DR."
   ]
  },
  {
   "cell_type": "code",
   "execution_count": null,
   "id": "important-julian",
   "metadata": {},
   "outputs": [],
   "source": [
    "%%manim NextTo\n",
    "\n",
    "from manim import *\n",
    "class NextTo(Scene):\n",
    "    def construct(self):\n",
    "        #On positionne un premier carré\n",
    "        square = Square(color=YELLOW)\n",
    "        square.set_fill(YELLOW, opacity=0.6)\n",
    "        \n",
    "        #On positionne un point rose à droite du carré\n",
    "        dotRight = Dot(color=PINK)\n",
    "        dotRight.next_to(square, direction=UR, buff=0.5)\n",
    "        \n",
    "        #On positionne un point vert au-dessus du carré\n",
    "        dotUp = Dot(color=GREEN)\n",
    "        dotUp.next_to(square, direction=UL, buff=1)\n",
    "        \n",
    "        #On positionne un point rouge à gauche du carré\n",
    "        dotLeft = Dot(color=RED)\n",
    "        dotLeft.next_to(square, direction=DL, buff=1.5)\n",
    "        \n",
    "        #On positionne un point blanc en-dessous du carré\n",
    "        dotDown = Dot()\n",
    "        dotDown.next_to(square, direction=DR, buff=2)\n",
    "        \n",
    "        #On ajoute nos éléments à la scène\n",
    "        self.add(square, dotRight, dotUp, dotLeft, dotDown)\n",
    "        self.wait(2)"
   ]
  },
  {
   "cell_type": "markdown",
   "id": "geological-newark",
   "metadata": {},
   "source": [
    "### <center><u>II.2.3. La méthode shift<u></center>"
   ]
  },
  {
   "cell_type": "markdown",
   "id": "invalid-extent",
   "metadata": {},
   "source": [
    "La méthode shift permet de déplacer un objet depuis sa position vers une autre position indiquée en paramètre de la méthode shift."
   ]
  },
  {
   "cell_type": "code",
   "execution_count": null,
   "id": "noble-packet",
   "metadata": {},
   "outputs": [],
   "source": [
    "%%manim ShiftTuto\n",
    "\n",
    "from manim import *\n",
    "class ShiftTuto(Scene):\n",
    "    def construct(self):\n",
    "        triangle = Triangle(color=WHITE)\n",
    "        triangle.set_fill(WHITE, opacity=0.75)\n",
    "        self.add(triangle)\n",
    "        self.wait(1)\n",
    "        \n",
    "        triangle.shift(np.array([2,2,0]))\n",
    "        self.wait(1)"
   ]
  },
  {
   "cell_type": "markdown",
   "id": "everyday-england",
   "metadata": {},
   "source": [
    "Un autre exemple où on effectue **plusieurs shifts**"
   ]
  },
  {
   "cell_type": "code",
   "execution_count": null,
   "id": "played-following",
   "metadata": {},
   "outputs": [],
   "source": [
    "%%manim PlusieursShifts\n",
    "\n",
    "from manim import *\n",
    "class PlusieursShifts(Scene):\n",
    "    def construct(self):\n",
    "        ring = Annulus(inner_radius=0.5, outer_radius=0.6, color=YELLOW)\n",
    "        self.add(ring)\n",
    "        \n",
    "        #On déplace l'anneau vers le haut\n",
    "        ring.shift(np.array([0,1,0]))\n",
    "        self.wait(0.5)\n",
    "        \n",
    "        #On déplace l'anneau vers la gauche\n",
    "        ring.shift(np.array([-1,0,0]))\n",
    "        self.wait(0.5)\n",
    "        \n",
    "        #On déplace l'anneau vers la droite\n",
    "        ring.shift(np.array([3,0,0]))\n",
    "        self.wait(0.5)\n",
    "        \n",
    "        #On déplace l'anneau en diagonale bas-gauche\n",
    "        ring.shift(np.array([-2,-2,0]))\n",
    "        self.wait(1)"
   ]
  }
 ],
 "metadata": {
  "celltoolbar": "Aucun(e)",
  "kernelspec": {
   "display_name": "Python 3",
   "language": "python",
   "name": "python3"
  },
  "language_info": {
   "codemirror_mode": {
    "name": "ipython",
    "version": 3
   },
   "file_extension": ".py",
   "mimetype": "text/x-python",
   "name": "python",
   "nbconvert_exporter": "python",
   "pygments_lexer": "ipython3",
   "version": "3.9.2"
  }
 },
 "nbformat": 4,
 "nbformat_minor": 5
}
