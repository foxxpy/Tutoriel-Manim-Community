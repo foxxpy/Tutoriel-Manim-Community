{
 "cells": [
  {
   "cell_type": "code",
   "execution_count": null,
   "id": "prostate-planet",
   "metadata": {},
   "outputs": [],
   "source": [
    "import jupyter_manim"
   ]
  },
  {
   "cell_type": "markdown",
   "id": "choice-power",
   "metadata": {},
   "source": [
    "**Documentation vers les animations** : https://docs.manim.community/en/latest/reference/manim.animation.animation.Animation.html#manim.animation.animation.Animation"
   ]
  },
  {
   "cell_type": "markdown",
   "id": "conventional-panama",
   "metadata": {},
   "source": [
    "# <u>I. Quelques animations</u>"
   ]
  },
  {
   "cell_type": "markdown",
   "id": "periodic-serial",
   "metadata": {},
   "source": [
    "## <u>I.1. Les animations de transformation</u>"
   ]
  },
  {
   "cell_type": "markdown",
   "id": "improving-orange",
   "metadata": {},
   "source": [
    "### <center><u> I.1.1. Transformer un cercle en carré </u></center>"
   ]
  },
  {
   "cell_type": "markdown",
   "id": "surprising-rugby",
   "metadata": {},
   "source": [
    "La méthode **Transform() change l'objet initial**. Dans l'animation ci-dessous, la variable circle lié à un cercle sera lié à l'objet carré après la transformation."
   ]
  },
  {
   "cell_type": "code",
   "execution_count": null,
   "id": "auburn-cooking",
   "metadata": {},
   "outputs": [],
   "source": [
    "%%manim FirstAnimation\n",
    "\n",
    "from manim import *\n",
    "\n",
    "class FirstAnimation(Scene):\n",
    "    def construct(self):\n",
    "        #On créé nos figures géométriques\n",
    "        circle = Circle(color=RED)\n",
    "        circle.set_fill(BLUE, opacity=0.5)\n",
    "\n",
    "        square = Square(color=RED)\n",
    "        square.set_fill(YELLOW, opacity=0.5)\n",
    "\n",
    "        #On débute les animations\n",
    "        self.play(Create(circle))\n",
    "        self.wait(1)\n",
    "        self.play(Transform(circle, square))\n",
    "        self.wait(1)"
   ]
  },
  {
   "cell_type": "markdown",
   "id": "earned-saint",
   "metadata": {},
   "source": [
    "Comme vous pouvez le constater, on transmet à la méthode **self.play()** la méthode **Transform()**, qui prend en 1er paramètre la figure initiale et en second paramètre, la figure finale."
   ]
  },
  {
   "cell_type": "markdown",
   "id": "excellent-polymer",
   "metadata": {},
   "source": [
    "### <center><u> I.1.2. Transformations multiples </u></center>"
   ]
  },
  {
   "cell_type": "markdown",
   "id": "sixth-density",
   "metadata": {},
   "source": [
    "**<u>Pour cette animation</u>** :\n",
    "\n",
    "- On va créer un point\n",
    "\n",
    "- Le point va se transformer en flèche\n",
    "\n",
    "- La flèche va se transformer en triangle\n",
    "\n",
    "- Le triangle va se transformer en polygone\n",
    "\n",
    "- Le polygone va se transformer en carré"
   ]
  },
  {
   "cell_type": "code",
   "execution_count": null,
   "id": "fleet-temple",
   "metadata": {},
   "outputs": [],
   "source": [
    "%%manim MegaTransformations\n",
    "\n",
    "from manim import *\n",
    "class MegaTransformations(Scene):\n",
    "    def construct(self):\n",
    "        \n",
    "        self.wait_time = 0.5\n",
    "        \n",
    "        #On créé les figures géométriques\n",
    "        dot = Dot(color=DARK_BLUE)\n",
    "        \n",
    "        ARROW_START = np.array([0,0,0])\n",
    "        ARROW_END = np.array([0,2,0])\n",
    "        arrow = Arrow(ARROW_START, ARROW_END, color=RED)\n",
    "        arrow.set_fill(RED, opacity=0.5)\n",
    "        \n",
    "        triangle = Triangle(color=GREEN)\n",
    "        triangle.set_fill(GREEN, opacity=0.5)\n",
    "        \n",
    "        POLYGONPOINT1 = np.array([0,0,0])\n",
    "        POLYGONPOINT2 = np.array([0,1,0])\n",
    "        POLYGONPOINT3 = np.array([1,0,0])\n",
    "        POLYGONPOINT4 = np.array([-0.5,0.5, 0])\n",
    "        polygon = Polygon(POLYGONPOINT1, POLYGONPOINT2, POLYGONPOINT3, POLYGONPOINT4, color=PINK)\n",
    "        polygon.set_fill(PINK, opacity=0.5)\n",
    "        \n",
    "        square = Square(color=BLUE)\n",
    "        square.set_fill(BLUE, opacity=0.5)\n",
    "        \n",
    "        #On créé nos animations\n",
    "        self.play(Create(dot))\n",
    "        \n",
    "        self.play(Transform(dot, arrow))\n",
    "        self.wait(self.wait_time)\n",
    "        \n",
    "        self.play(Transform(dot, triangle))\n",
    "        self.wait(self.wait_time)\n",
    "        \n",
    "        self.play(Transform(dot, polygon))\n",
    "        self.wait(self.wait_time)\n",
    "        \n",
    "        self.play(Transform(dot, square))\n",
    "        self.wait(2)"
   ]
  },
  {
   "cell_type": "markdown",
   "id": "increasing-insulation",
   "metadata": {},
   "source": [
    "### <center><u> I.1.3. ReplacementTransform </u></center>"
   ]
  },
  {
   "cell_type": "markdown",
   "id": "structural-steps",
   "metadata": {},
   "source": [
    "Contrairement à Transform, avec ReplacementTransform, l'objet initial se transforme véritablement en l'objet cible."
   ]
  },
  {
   "cell_type": "code",
   "execution_count": null,
   "id": "national-universe",
   "metadata": {},
   "outputs": [],
   "source": [
    "%%manim ReplacementMegaTransformations\n",
    "\n",
    "from manim import *\n",
    "class ReplacementMegaTransformations(Scene):\n",
    "    def construct(self):\n",
    "        \n",
    "        self.wait_time = 0.5\n",
    "        \n",
    "        #On créé les figures géométriques\n",
    "        dot = Dot(color=DARK_BLUE)\n",
    "        \n",
    "        ARROW_START = np.array([0,0,0])\n",
    "        ARROW_END = np.array([0,2,0])\n",
    "        arrow = Arrow(ARROW_START, ARROW_END, color=RED)\n",
    "        arrow.set_fill(RED, opacity=0.5)\n",
    "        \n",
    "        triangle = Triangle(color=GREEN)\n",
    "        triangle.set_fill(GREEN, opacity=0.5)\n",
    "        \n",
    "        POLYGONPOINT1 = np.array([0,0,0])\n",
    "        POLYGONPOINT2 = np.array([0,1,0])\n",
    "        POLYGONPOINT3 = np.array([1,0,0])\n",
    "        POLYGONPOINT4 = np.array([-0.5,0.5, 0])\n",
    "        polygon = Polygon(POLYGONPOINT1, POLYGONPOINT2, POLYGONPOINT3, POLYGONPOINT4, color=PINK)\n",
    "        polygon.set_fill(PINK, opacity=0.5)\n",
    "        \n",
    "        square = Square(color=BLUE)\n",
    "        square.set_fill(BLUE, opacity=0.5)\n",
    "        \n",
    "        #On créé nos animations\n",
    "        self.play(Create(dot))\n",
    "        \n",
    "        self.play(ReplacementTransform(dot, arrow))\n",
    "        self.wait(self.wait_time)\n",
    "        \n",
    "        self.play(ReplacementTransform(arrow, triangle))\n",
    "        self.wait(self.wait_time)\n",
    "        \n",
    "        self.play(ReplacementTransform(triangle, polygon))\n",
    "        self.wait(self.wait_time)\n",
    "        \n",
    "        self.play(ReplacementTransform(polygon, square))\n",
    "        self.wait(self.wait_time)\n",
    "        \n",
    "        self.play(ReplacementTransform(square, dot))\n",
    "        self.wait(1)"
   ]
  },
  {
   "cell_type": "markdown",
   "id": "stuffed-degree",
   "metadata": {},
   "source": [
    "L'animation se termine par une flèche et non un point, car avec ReplacementTransform, notre point est devenu une flèche lors de la première animation."
   ]
  },
  {
   "cell_type": "markdown",
   "id": "cheap-winner",
   "metadata": {},
   "source": [
    "### <center><u> I.1.4. TransformFromCopy </u></center>"
   ]
  },
  {
   "cell_type": "markdown",
   "id": "above-european",
   "metadata": {},
   "source": [
    "Similaire à ReplacementTransform mais garde l'objet initial comme il était."
   ]
  },
  {
   "cell_type": "code",
   "execution_count": null,
   "id": "educational-study",
   "metadata": {},
   "outputs": [],
   "source": [
    "%%manim TransformFromCopyAnimation\n",
    "\n",
    "from manim import *\n",
    "class TransformFromCopyAnimation(Scene):\n",
    "    def construct(self):\n",
    "        \n",
    "        self.wait_time = 0.5\n",
    "        \n",
    "        #On créé les figures géométriques\n",
    "        dot = Dot(color=DARK_BLUE)\n",
    "        \n",
    "        ARROW_START = np.array([0,0,0])\n",
    "        ARROW_END = np.array([0,2,0])\n",
    "        arrow = Arrow(ARROW_START, ARROW_END, color=RED)\n",
    "        arrow.set_fill(RED, opacity=0.5)\n",
    "        \n",
    "        triangle = Triangle(color=GREEN)\n",
    "        triangle.set_fill(GREEN, opacity=0.5)\n",
    "        \n",
    "        POLYGONPOINT1 = np.array([0,0,0])\n",
    "        POLYGONPOINT2 = np.array([0,1,0])\n",
    "        POLYGONPOINT3 = np.array([1,0,0])\n",
    "        POLYGONPOINT4 = np.array([-0.5,0.5, 0])\n",
    "        polygon = Polygon(POLYGONPOINT1, POLYGONPOINT2, POLYGONPOINT3, POLYGONPOINT4, color=PINK)\n",
    "        polygon.set_fill(PINK, opacity=0.5)\n",
    "        \n",
    "        square = Square(color=BLUE)\n",
    "        square.set_fill(BLUE, opacity=0.5)\n",
    "        \n",
    "        #On créé nos animations\n",
    "        self.play(Create(dot))\n",
    "        \n",
    "        self.play(TransformFromCopy(dot, arrow))\n",
    "        self.remove(dot)\n",
    "        self.wait(self.wait_time)\n",
    "        \n",
    "        self.play(TransformFromCopy(arrow, triangle))\n",
    "        self.remove(arrow)\n",
    "        self.wait(self.wait_time)\n",
    "        \n",
    "        self.play(TransformFromCopy(triangle, polygon))\n",
    "        self.remove(triangle)\n",
    "        self.wait(self.wait_time)\n",
    "        \n",
    "        self.play(TransformFromCopy(polygon, square))\n",
    "        self.remove(polygon)\n",
    "        self.wait(self.wait_time)\n",
    "        \n",
    "        self.play(TransformFromCopy(square, dot))\n",
    "        self.remove(square)\n",
    "        self.wait(2)"
   ]
  },
  {
   "cell_type": "markdown",
   "id": "satellite-claim",
   "metadata": {},
   "source": [
    "### <center><u> I.1.5. ClockwiseTransform </u></center>"
   ]
  },
  {
   "cell_type": "code",
   "execution_count": null,
   "id": "sacred-balance",
   "metadata": {},
   "outputs": [],
   "source": [
    "%%manim AnimationClockwiseTransform\n",
    "\n",
    "from manim import *\n",
    "class AnimationClockwiseTransform(Scene):\n",
    "    def construct(self):\n",
    "        #On créé nos objets\n",
    "        square = Square(color=GREEN)\n",
    "        square.set_fill(GREEN, opacity=0.6)\n",
    "        \n",
    "        circle = Circle(color=RED)\n",
    "        circle.set_fill(RED, opacity=0.6)\n",
    "        \n",
    "        #On créé notre animation\n",
    "        self.add(square)\n",
    "        self.play(ClockwiseTransform(square, circle))\n",
    "        self.wait(1)"
   ]
  },
  {
   "cell_type": "markdown",
   "id": "exotic-forward",
   "metadata": {},
   "source": [
    "### <center><u> I.1.6. CounterclockwiseTransform </u></center>"
   ]
  },
  {
   "cell_type": "code",
   "execution_count": null,
   "id": "phantom-colorado",
   "metadata": {},
   "outputs": [],
   "source": [
    "%%manim AnimationCounterClockwiseTransform\n",
    "\n",
    "from manim import *\n",
    "class AnimationCounterClockwiseTransform(Scene):\n",
    "    def construct(self):\n",
    "        #On créé nos objets\n",
    "        square = Square(color=GREEN)\n",
    "        square.set_fill(GREEN, opacity=0.6)\n",
    "        \n",
    "        circle = Circle(color=RED)\n",
    "        circle.set_fill(RED, opacity=0.6)\n",
    "        \n",
    "        #On créé notre animation\n",
    "        self.add(square)\n",
    "        self.play(CounterclockwiseTransform(square, circle))\n",
    "        self.wait(1)"
   ]
  },
  {
   "cell_type": "markdown",
   "id": "sunrise-maine",
   "metadata": {},
   "source": [
    "Comme l'objet initial dans chaque transformation reste tel qu'il était, il faut alors le retirer de la scène manuellement avec la méthode self.remove()"
   ]
  },
  {
   "cell_type": "markdown",
   "id": "defined-allergy",
   "metadata": {},
   "source": [
    "## <u>I.2. Fading in et Fading out</u>"
   ]
  },
  {
   "cell_type": "markdown",
   "id": "sustained-marble",
   "metadata": {},
   "source": [
    "### <center><u> I.2.1. FadeIn </u></center>"
   ]
  },
  {
   "cell_type": "markdown",
   "id": "competitive-swing",
   "metadata": {},
   "source": [
    "Lien de la documentation pour les animations fading : https://docs.manim.community/en/stable/reference/manim.animation.fading.html#module-manim.animation.fading"
   ]
  },
  {
   "cell_type": "code",
   "execution_count": null,
   "id": "great-darwin",
   "metadata": {},
   "outputs": [],
   "source": [
    "%%manim FadeInAnimation\n",
    "\n",
    "from manim import *\n",
    "class FadeInAnimation(Scene):\n",
    "    def construct(self):\n",
    "        circle = Circle(radius=1.5, color=YELLOW)\n",
    "        circle.set_fill(YELLOW, opacity=0.75)\n",
    "        \n",
    "        self.play(FadeIn(circle), run_time=3)\n",
    "        self.wait(1)"
   ]
  },
  {
   "cell_type": "markdown",
   "id": "quantitative-sapphire",
   "metadata": {},
   "source": [
    "### <center><u> I.2.2. FadeInFrom </u></center>"
   ]
  },
  {
   "cell_type": "code",
   "execution_count": null,
   "id": "essential-ticket",
   "metadata": {},
   "outputs": [],
   "source": [
    "%%manim FadeInFromAnimation\n",
    "\n",
    "from manim import *\n",
    "class FadeInFromAnimation(Scene):\n",
    "    def construct(self):\n",
    "        circle = Circle(radius=1.5, color=YELLOW)\n",
    "        circle.set_fill(YELLOW, opacity=0.75)\n",
    "        \n",
    "        self.play(FadeInFrom(circle, np.array([-2,2,0])))\n",
    "        self.wait(1)"
   ]
  },
  {
   "cell_type": "markdown",
   "id": "fundamental-radical",
   "metadata": {},
   "source": [
    "**self.play(FadeInFrom(circle, UP)) **: on a ajouté l'argument **UP** qui permet d'indiquer qu'on veut que la forme géométrique **apparaisse en provenant du haut**.\n",
    "    \n",
    "A la place de UP, nous aurions pu mettre : DOWN, LEFT, RIGHT ou un np.array([x,y,z])"
   ]
  },
  {
   "cell_type": "markdown",
   "id": "every-livestock",
   "metadata": {},
   "source": [
    "### <center><u> I.2.3. FadeInFromLarge </u></center>"
   ]
  },
  {
   "cell_type": "code",
   "execution_count": null,
   "id": "stretch-clone",
   "metadata": {},
   "outputs": [],
   "source": [
    "%%manim FadeInFromLargeAnimation\n",
    "\n",
    "from manim import *\n",
    "class FadeInFromLargeAnimation(Scene):\n",
    "    def construct(self):\n",
    "        circle = Circle(radius=1.5, color=YELLOW)\n",
    "        circle.set_fill(YELLOW, opacity=0.75)\n",
    "        \n",
    "        self.play(FadeInFromLarge(circle, scale_factor=0.5))\n",
    "        self.wait(1)"
   ]
  },
  {
   "cell_type": "markdown",
   "id": "continental-logan",
   "metadata": {},
   "source": [
    "**self.play(FadeInFromLarge(circle, scale_factor=3))** : lors de son apparition, la figure est 3 fois plus grandes que sa taille normale (scale_factor), et elle se réduit jusqu'à sa taille définie au-dessus (radius=1.5)"
   ]
  },
  {
   "cell_type": "markdown",
   "id": "direct-respondent",
   "metadata": {},
   "source": [
    "### <center><u> I.2.4. FadeInFromPoint </u></center>"
   ]
  },
  {
   "cell_type": "code",
   "execution_count": null,
   "id": "funny-plate",
   "metadata": {},
   "outputs": [],
   "source": [
    "%%manim FadeInFromPointAnimation\n",
    "\n",
    "from manim import *\n",
    "class FadeInFromPointAnimation(Scene):\n",
    "    def construct(self):\n",
    "        circle = Circle(radius=1.5, color=YELLOW)\n",
    "        circle.set_fill(YELLOW, opacity=0.75)\n",
    "        \n",
    "        self.play(FadeInFromPoint(circle, np.array([-2, 2, 0])))\n",
    "        self.wait(1)"
   ]
  },
  {
   "cell_type": "markdown",
   "id": "noted-monthly",
   "metadata": {},
   "source": [
    "**self.play(FadeInFromPoint(circle, np.array([-2, 2, 0])))** : Le cercle apparait en partant du point (-2, 2, 0)"
   ]
  },
  {
   "cell_type": "markdown",
   "id": "sitting-indonesia",
   "metadata": {},
   "source": [
    "### <center><u> I.2.5. FadeOut </u></center>"
   ]
  },
  {
   "cell_type": "code",
   "execution_count": null,
   "id": "small-sydney",
   "metadata": {},
   "outputs": [],
   "source": [
    "%%manim FadeOutAnimation\n",
    "\n",
    "from manim import *\n",
    "class FadeOutAnimation(Scene):\n",
    "    def construct(self):\n",
    "        circle = Circle(radius=1.5, color=YELLOW)\n",
    "        circle.set_fill(YELLOW, opacity=0.75)\n",
    "        \n",
    "        self.add(circle)\n",
    "        self.wait(0.5)\n",
    "        self.play(FadeOut(circle))\n",
    "        self.wait(0.5)"
   ]
  },
  {
   "cell_type": "markdown",
   "id": "acceptable-crisis",
   "metadata": {},
   "source": [
    "### <center><u> I.2.6. FadeOutAndShift </u></center>"
   ]
  },
  {
   "cell_type": "code",
   "execution_count": null,
   "id": "twenty-pollution",
   "metadata": {},
   "outputs": [],
   "source": [
    "%%manim FadeOutAndShiftAnimation\n",
    "\n",
    "from manim import *\n",
    "class FadeOutAndShiftAnimation(Scene):\n",
    "    def construct(self):\n",
    "        circle = Circle(radius=1.5, color=YELLOW)\n",
    "        circle.set_fill(YELLOW, opacity=0.75)\n",
    "        \n",
    "        self.add(circle)\n",
    "        self.wait(0.5)\n",
    "        self.play(FadeOutAndShift(circle), direction=2*LEFT+UP)\n",
    "        self.wait(0.5)"
   ]
  },
  {
   "cell_type": "markdown",
   "id": "alternative-label",
   "metadata": {},
   "source": [
    "### <center><u> I.2.7. FadeOutToPoint </u></center>"
   ]
  },
  {
   "cell_type": "code",
   "execution_count": null,
   "id": "bronze-leonard",
   "metadata": {},
   "outputs": [],
   "source": [
    "%%manim FadeOutToPointAnimation\n",
    "\n",
    "from manim import *\n",
    "class FadeOutToPointAnimation(Scene):\n",
    "    def construct(self):\n",
    "        circle = Circle(radius=1.5, color=YELLOW)\n",
    "        circle.set_fill(YELLOW, opacity=0.75)\n",
    "        \n",
    "        self.add(circle)\n",
    "        self.wait(0.5)\n",
    "        self.play(FadeOutToPoint(circle, np.array([-3,-3,0])))\n",
    "        self.wait(0.5)"
   ]
  },
  {
   "cell_type": "markdown",
   "id": "vulnerable-exchange",
   "metadata": {},
   "source": [
    "## <u>I.3. Growing</u>"
   ]
  },
  {
   "cell_type": "markdown",
   "id": "fifteen-damages",
   "metadata": {},
   "source": [
    "Lien de la documentation vers les animations Growing : https://docs.manim.community/en/stable/reference/manim.animation.growing.html#module-manim.animation.growing"
   ]
  },
  {
   "cell_type": "markdown",
   "id": "professional-spray",
   "metadata": {},
   "source": [
    "### <center><u> I.3.1. GrowArrow </u></center>"
   ]
  },
  {
   "cell_type": "code",
   "execution_count": null,
   "id": "delayed-server",
   "metadata": {},
   "outputs": [],
   "source": [
    "%%manim GrowArrowAnimation\n",
    "\n",
    "from manim import *\n",
    "class GrowArrowAnimation(Scene):\n",
    "    def construct(self):\n",
    "        #On créé la flèche\n",
    "        START = np.array([-2,0,0])\n",
    "        END = np.array([0,3,0])\n",
    "        arrow = Arrow(START, END, color=YELLOW)\n",
    "        \n",
    "        #On joue les animations\n",
    "        self.play(GrowArrow(arrow), run_time=3)\n",
    "        self.wait(1)"
   ]
  },
  {
   "cell_type": "markdown",
   "id": "further-sheffield",
   "metadata": {},
   "source": [
    "### <center><u> I.3.2. GrowFromCenter</u></center>"
   ]
  },
  {
   "cell_type": "code",
   "execution_count": null,
   "id": "identical-glory",
   "metadata": {},
   "outputs": [],
   "source": [
    "%%manim GrowFromCenterAnimation\n",
    "\n",
    "from manim import *\n",
    "class GrowFromCenterAnimation(Scene):\n",
    "    def construct(self):\n",
    "        #On créé le rectangle\n",
    "        rectangle = Ellipse(width=2, height=3, color=YELLOW)\n",
    "        rectangle.set_fill(YELLOW, opacity=0.6)\n",
    "        rectangle.move_to(np.array([2,2,0]))\n",
    "        \n",
    "        #On joue les animations\n",
    "        self.play(GrowFromCenter(rectangle), run_time=4)\n",
    "        self.wait(1)"
   ]
  },
  {
   "cell_type": "markdown",
   "id": "excellent-spray",
   "metadata": {},
   "source": [
    "### <center><u> I.3.3. GrowFromEdge </u></center>"
   ]
  },
  {
   "cell_type": "code",
   "execution_count": null,
   "id": "quantitative-italy",
   "metadata": {},
   "outputs": [],
   "source": [
    "%%manim GrowFromEdgeAnimation\n",
    "\n",
    "from manim import *\n",
    "class GrowFromEdgeAnimation(Scene):\n",
    "    def construct(self):\n",
    "        #On créé le carré\n",
    "        square = Square(color=YELLOW)\n",
    "        square.set_fill(YELLOW, opacity=0.6)\n",
    "        square.move_to(np.array([-1,-1,0]))\n",
    "        \n",
    "        #On joue les animations\n",
    "        self.play(GrowFromEdge(square, DL))\n",
    "        self.wait(1)"
   ]
  },
  {
   "cell_type": "markdown",
   "id": "wrapped-consortium",
   "metadata": {},
   "source": [
    "### <center><u> I.3.4. GrowFromPoint </u></center>"
   ]
  },
  {
   "cell_type": "code",
   "execution_count": null,
   "id": "impaired-ethnic",
   "metadata": {},
   "outputs": [],
   "source": [
    "%%manim GrowFromPointAnimation\n",
    "\n",
    "from manim import *\n",
    "class GrowFromPointAnimation(Scene):\n",
    "    def construct(self):\n",
    "        #On créé le triangle\n",
    "        triangle = Triangle(color=YELLOW)\n",
    "        triangle.set_fill(YELLOW, opacity=0.6)\n",
    "        triangle.move_to(np.array([2,-2,0]))\n",
    "        \n",
    "        #On joue les animations\n",
    "        self.play(GrowFromPoint(triangle, np.array([-2,2,0])))\n",
    "        self.wait(1)"
   ]
  },
  {
   "cell_type": "markdown",
   "id": "solar-edinburgh",
   "metadata": {},
   "source": [
    "### <center><u> I.3.5. SpinInFromNothing </u></center>"
   ]
  },
  {
   "cell_type": "code",
   "execution_count": null,
   "id": "moving-accuracy",
   "metadata": {},
   "outputs": [],
   "source": [
    "%%manim SpinInFromNothingAnimation\n",
    "\n",
    "from manim import *\n",
    "class SpinInFromNothingAnimation(Scene):\n",
    "    def construct(self):\n",
    "        #On créé le triangle\n",
    "        triangle = Triangle(color=YELLOW)\n",
    "        triangle.set_fill(YELLOW, opacity=0.6)\n",
    "        \n",
    "        #On joue les animations\n",
    "        self.play(SpinInFromNothing(triangle))\n",
    "        self.wait(1)"
   ]
  },
  {
   "cell_type": "markdown",
   "id": "tested-exhibit",
   "metadata": {},
   "source": [
    "## <u>I.4. Les animations de création</u>"
   ]
  },
  {
   "cell_type": "markdown",
   "id": "educated-situation",
   "metadata": {},
   "source": [
    "### <center><u> I.4.1 Create et Uncreate </u></center>"
   ]
  },
  {
   "cell_type": "code",
   "execution_count": null,
   "id": "acoustic-murray",
   "metadata": {},
   "outputs": [],
   "source": [
    "%%manim CreateAnimation\n",
    "\n",
    "from manim import *\n",
    "class CreateAnimation(Scene):\n",
    "    def construct(self):\n",
    "        #On créé le triangle\n",
    "        triangle = Triangle(color=YELLOW)\n",
    "        triangle.set_fill(YELLOW, opacity=0.6)\n",
    "        \n",
    "        #On joue les animations\n",
    "        self.play(Create(triangle))\n",
    "        self.wait(1)\n",
    "        \n",
    "        triangle.to_corner(UR)\n",
    "        self.wait(0.5)\n",
    "        \n",
    "        self.play(Uncreate(triangle))\n",
    "        self.wait(1)"
   ]
  },
  {
   "cell_type": "markdown",
   "id": "radio-compensation",
   "metadata": {},
   "source": [
    "### <center><u> I.4.2. DrawBorderThenFill </u></center>"
   ]
  },
  {
   "cell_type": "code",
   "execution_count": null,
   "id": "amino-quarterly",
   "metadata": {},
   "outputs": [],
   "source": [
    "%%manim DrawBorderThenFillAnimation\n",
    "\n",
    "from manim import *\n",
    "class DrawBorderThenFillAnimation(Scene):\n",
    "    def construct(self):\n",
    "        #On créé les figures\n",
    "        triangle = Triangle(color=YELLOW)\n",
    "        triangle.set_fill(YELLOW, opacity=0.6)\n",
    "        triangle.to_edge(UP)\n",
    "        \n",
    "        square = Square(color=GREEN)\n",
    "        square.set_fill(GREEN, opacity=0.6)\n",
    "        square.to_edge(RIGHT)\n",
    "        \n",
    "        circle = Circle(color=RED)\n",
    "        circle.set_fill(RED, opacity=0.6)\n",
    "        circle.to_edge(DOWN)\n",
    "        \n",
    "        ring = Annulus(inner_radius=1, outer_radius=1.1, color=BLUE)\n",
    "        ring.set_fill(BLUE, opacity=0.6)\n",
    "        ring.to_edge(LEFT)\n",
    "        \n",
    "        liste_figures = [triangle, square, circle, ring]\n",
    "        \n",
    "        #On joue les animations\n",
    "        for figure in liste_figures:\n",
    "            self.play(DrawBorderThenFill(figure))\n",
    "            self.wait(0.5)\n",
    "            "
   ]
  },
  {
   "cell_type": "markdown",
   "id": "banned-light",
   "metadata": {},
   "source": [
    "## <u>I.5. Les animations de rotation</u>"
   ]
  },
  {
   "cell_type": "markdown",
   "id": "fatty-boating",
   "metadata": {},
   "source": [
    "### <center><u> I.5.1. Rotate </u></center>"
   ]
  },
  {
   "cell_type": "code",
   "execution_count": null,
   "id": "scientific-medium",
   "metadata": {},
   "outputs": [],
   "source": [
    "%%manim RotateAnimation\n",
    "\n",
    "import math\n",
    "from manim import *\n",
    "class RotateAnimation(Scene):\n",
    "    def construct(self):\n",
    "        square = Square(color=GREEN)\n",
    "        square.set_fill(GREEN, opacity=0.6)\n",
    "        \n",
    "        self.play(Create(square))\n",
    "        self.play(Rotate(square, 2*math.pi), run_time=2)"
   ]
  },
  {
   "cell_type": "markdown",
   "id": "fancy-compact",
   "metadata": {},
   "source": [
    "### <center><u> I.5.2. Rotating </u></center>"
   ]
  },
  {
   "cell_type": "code",
   "execution_count": null,
   "id": "dimensional-affect",
   "metadata": {},
   "outputs": [],
   "source": [
    "%%manim RotatingAnimation\n",
    "\n",
    "import math\n",
    "from manim import *\n",
    "class RotatingAnimation(Scene):\n",
    "    def construct(self):\n",
    "        square = Square(color=GREEN)\n",
    "        square.set_fill(GREEN, opacity=0.6)\n",
    "        \n",
    "        self.play(Create(square))\n",
    "        self.play(Rotating(square))"
   ]
  },
  {
   "cell_type": "markdown",
   "id": "convinced-vegetarian",
   "metadata": {},
   "source": [
    "## <u>I.6. Les animations de déplacement</u>"
   ]
  },
  {
   "cell_type": "markdown",
   "id": "numerical-examination",
   "metadata": {},
   "source": [
    "### <center><u> I.6.1. MoveToTarget </u></center>"
   ]
  },
  {
   "cell_type": "markdown",
   "id": "bibliographic-spine",
   "metadata": {},
   "source": [
    "Il est possible d'accéder à l'attribut target des MObject directement en faisant **MObject.target**"
   ]
  },
  {
   "cell_type": "code",
   "execution_count": null,
   "id": "double-removal",
   "metadata": {},
   "outputs": [],
   "source": [
    "%%manim MoveToTargetAnimation\n",
    "\n",
    "from manim import *\n",
    "class MoveToTargetAnimation(Scene):\n",
    "    def construct(self):\n",
    "        circle = Circle(color=YELLOW)\n",
    "        circle.set_fill(YELLOW, opacity=0.7)\n",
    "        \n",
    "        circle.generate_target()\n",
    "        circle.target.move_to(np.array([-2,2,0]))\n",
    "        \n",
    "        self.play(Create(circle))\n",
    "        self.play(MoveToTarget(circle))"
   ]
  },
  {
   "cell_type": "markdown",
   "id": "cooperative-intensity",
   "metadata": {},
   "source": [
    "### <center><u> I.6.2. Autre exemple </u></center>"
   ]
  },
  {
   "cell_type": "code",
   "execution_count": null,
   "id": "outdoor-cabinet",
   "metadata": {},
   "outputs": [],
   "source": [
    "%%manim MoveToTargetAnimation2\n",
    "\n",
    "from manim import *\n",
    "class MoveToTargetAnimation2(Scene):\n",
    "    def construct(self):\n",
    "        #On créé un carré, un cercle, un triangle et un point\n",
    "        circle = Circle(color=DARK_BLUE)\n",
    "        circle.set_fill(DARK_BLUE, opacity=0.75)\n",
    "        circle.to_corner(UR)\n",
    "        \n",
    "        square = Square(color=BLUE)\n",
    "        square.set_fill(BLUE, opacity=0.75)\n",
    "        square.to_corner(UL)\n",
    "        \n",
    "        triangle = Triangle(color=GREEN)\n",
    "        triangle.set_fill(GREEN, opacity=0.75)\n",
    "        triangle.to_corner(DL)\n",
    "        \n",
    "        ring = Annulus(inner_radius=0.5, outer_radius=0.7, color=WHITE)\n",
    "        ring.set_fill(WHITE, opacity=0.75)\n",
    "        ring.to_corner(DR)\n",
    "        \n",
    "        \n",
    "        #On choisit les targets de nos objets\n",
    "        circle.generate_target()\n",
    "        square.generate_target()\n",
    "        triangle.generate_target()\n",
    "        ring.generate_target()\n",
    "        \n",
    "        circle.target.to_corner(UL)\n",
    "        square.target.to_corner(DL)\n",
    "        triangle.target.to_corner(DR)\n",
    "        ring.target.to_corner(UR)\n",
    "        \n",
    "        #On place nos objets\n",
    "        self.play(FadeIn(circle))\n",
    "        self.play(FadeIn(square))\n",
    "        self.play(FadeIn(triangle))\n",
    "        self.play(FadeIn(ring))\n",
    "        \n",
    "        #On joue les animations\n",
    "        self.play(MoveToTarget(circle))\n",
    "        self.play(MoveToTarget(square))\n",
    "        self.play(MoveToTarget(triangle))\n",
    "        self.play(MoveToTarget(ring))\n",
    "        \n",
    "        self.wait(1)"
   ]
  },
  {
   "cell_type": "markdown",
   "id": "outdoor-chess",
   "metadata": {},
   "source": [
    "### <center><u> I.6.3. MoveAlongPath </u></center>"
   ]
  },
  {
   "cell_type": "markdown",
   "id": "knowing-planning",
   "metadata": {},
   "source": [
    "Permet à un MObject se déplacer le long d'un autre MObject."
   ]
  },
  {
   "cell_type": "markdown",
   "id": "funded-converter",
   "metadata": {},
   "source": [
    "<center><b>Un premier exemple<b></center>"
   ]
  },
  {
   "cell_type": "code",
   "execution_count": null,
   "id": "informed-period",
   "metadata": {},
   "outputs": [],
   "source": [
    "%%manim MoveAlongPathAnimation\n",
    "\n",
    "from manim import *\n",
    "class MoveAlongPathAnimation(Scene):\n",
    "    def construct(self):\n",
    "        #On créé un point et une ligne\n",
    "        dot = Dot().set_color(BLUE_A)\n",
    "        dot.move_to((-2,0,0))\n",
    "        line = Line((-2,0,0), (2,0,0))\n",
    "        \n",
    "        #On affiche notre ligne et notre point\n",
    "        self.play(Create(line))\n",
    "        self.wait(0.5)\n",
    "        \n",
    "        self.play(Create(dot))\n",
    "        self.wait(0.5)\n",
    "        \n",
    "        self.play(MoveAlongPath(dot, line))\n",
    "        self.wait(2)"
   ]
  },
  {
   "cell_type": "markdown",
   "id": "homeless-spiritual",
   "metadata": {},
   "source": [
    "<center><b>Il est possible de colorier la ligne pendant le déplacement du point</b></center>"
   ]
  },
  {
   "cell_type": "code",
   "execution_count": null,
   "id": "systematic-variation",
   "metadata": {},
   "outputs": [],
   "source": [
    "%%manim MoveAlongPathAnimation\n",
    "\n",
    "from manim import *\n",
    "class MoveAlongPathAnimation(Scene):\n",
    "    def construct(self):\n",
    "        #On créé un point et une ligne\n",
    "        dot = Dot().set_color(RED)\n",
    "        dot.move_to((-2,0,0))\n",
    "        line = Line((-2,0,0), (2,0,0))\n",
    "        line2 = VMobject()\n",
    "        \n",
    "        #On affiche notre ligne et notre point\n",
    "        self.play(Create(line))\n",
    "        self.wait(0.5)\n",
    "        \n",
    "        self.play(Create(dot))\n",
    "        self.wait(0.5)\n",
    "        \n",
    "        self.add(line2)\n",
    "        line2.add_updater(lambda x : x.become(Line((-2,0,0), dot.get_center()).set_color(RED)))\n",
    "        \n",
    "        self.play(MoveAlongPath(dot, line))\n",
    "        self.wait(2)"
   ]
  }
 ],
 "metadata": {
  "kernelspec": {
   "display_name": "Python 3",
   "language": "python",
   "name": "python3"
  },
  "language_info": {
   "codemirror_mode": {
    "name": "ipython",
    "version": 3
   },
   "file_extension": ".py",
   "mimetype": "text/x-python",
   "name": "python",
   "nbconvert_exporter": "python",
   "pygments_lexer": "ipython3",
   "version": "3.9.2"
  }
 },
 "nbformat": 4,
 "nbformat_minor": 5
}
